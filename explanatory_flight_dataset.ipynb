{
 "cells": [
  {
   "cell_type": "markdown",
   "metadata": {
    "slideshow": {
     "slide_type": "slide"
    }
   },
   "source": [
    "# Data Visualization Project - Flight Dataset\n",
    "## by Priyanka Krishnan"
   ]
  },
  {
   "cell_type": "markdown",
   "metadata": {
    "slideshow": {
     "slide_type": "slide"
    }
   },
   "source": [
    "## Investigation Overview\n",
    ">The goal of the project is to investigate and visualize the flight dataset to understand the factors causing flight delays along with carrier performance with respect to cancellations and delays.\n",
    "\n",
    "## Dataset Overview\n",
    ">The dataset is from the Bureau of Transportation Statistics and can be downloaded directly from https://community.amstat.org/jointscsg-section/dataexpo/dataexpo2009.\n",
    ">\n",
    ">The downloaded files were in zip format ('bz2'). This dataset consists of flight related details like month, day of week, carriers, arrival & departure delays, and reasons for delays. For the purpose of this project I have used data from years 2006-2008 (last three years in the dataset)."
   ]
  },
  {
   "cell_type": "code",
   "execution_count": 1,
   "metadata": {
    "slideshow": {
     "slide_type": "skip"
    }
   },
   "outputs": [],
   "source": [
    "# import all packages and set plots to be embedded inline\n",
    "import numpy as np\n",
    "import pandas as pd\n",
    "import matplotlib.pyplot as plt\n",
    "import seaborn as sb\n",
    "\n",
    "%matplotlib inline\n",
    "\n",
    "# suppress warnings from final output\n",
    "import warnings\n",
    "warnings.simplefilter(\"ignore\")"
   ]
  },
  {
   "cell_type": "markdown",
   "metadata": {
    "slideshow": {
     "slide_type": "skip"
    }
   },
   "source": [
    "#### Gather Data - Load data into dataframes"
   ]
  },
  {
   "cell_type": "code",
   "execution_count": 2,
   "metadata": {
    "slideshow": {
     "slide_type": "skip"
    }
   },
   "outputs": [],
   "source": [
    "#Read CSV files for year 2008 into dataframe df_2008\n",
    "df_2008 = pd.read_csv(\"2008.csv.bz2\", compression='bz2')\n",
    "\n",
    "#Read CSV files for year 2007 into dataframe df_2007\n",
    "df_2007 = pd.read_csv(\"2007.csv.bz2\", compression='bz2')\n",
    "\n",
    "#Read CSV files for year 2006 into dataframe df_2006\n",
    "df_2006 = pd.read_csv(\"2006.csv.bz2\", compression='bz2')"
   ]
  },
  {
   "cell_type": "markdown",
   "metadata": {
    "slideshow": {
     "slide_type": "skip"
    }
   },
   "source": [
    ">All the three datasets have 29 columns and about 7 million+ records each.\n",
    "\n",
    "#### Assess Data"
   ]
  },
  {
   "cell_type": "code",
   "execution_count": 3,
   "metadata": {
    "slideshow": {
     "slide_type": "skip"
    }
   },
   "outputs": [
    {
     "data": {
      "text/html": [
       "<div>\n",
       "<style scoped>\n",
       "    .dataframe tbody tr th:only-of-type {\n",
       "        vertical-align: middle;\n",
       "    }\n",
       "\n",
       "    .dataframe tbody tr th {\n",
       "        vertical-align: top;\n",
       "    }\n",
       "\n",
       "    .dataframe thead th {\n",
       "        text-align: right;\n",
       "    }\n",
       "</style>\n",
       "<table border=\"1\" class=\"dataframe\">\n",
       "  <thead>\n",
       "    <tr style=\"text-align: right;\">\n",
       "      <th></th>\n",
       "      <th>Year</th>\n",
       "      <th>Month</th>\n",
       "      <th>DayofMonth</th>\n",
       "      <th>DayOfWeek</th>\n",
       "      <th>DepTime</th>\n",
       "      <th>CRSDepTime</th>\n",
       "      <th>ArrTime</th>\n",
       "      <th>CRSArrTime</th>\n",
       "      <th>UniqueCarrier</th>\n",
       "      <th>FlightNum</th>\n",
       "      <th>...</th>\n",
       "      <th>TaxiIn</th>\n",
       "      <th>TaxiOut</th>\n",
       "      <th>Cancelled</th>\n",
       "      <th>CancellationCode</th>\n",
       "      <th>Diverted</th>\n",
       "      <th>CarrierDelay</th>\n",
       "      <th>WeatherDelay</th>\n",
       "      <th>NASDelay</th>\n",
       "      <th>SecurityDelay</th>\n",
       "      <th>LateAircraftDelay</th>\n",
       "    </tr>\n",
       "  </thead>\n",
       "  <tbody>\n",
       "    <tr>\n",
       "      <th>5735095</th>\n",
       "      <td>2008</td>\n",
       "      <td>10</td>\n",
       "      <td>30</td>\n",
       "      <td>4</td>\n",
       "      <td>949.0</td>\n",
       "      <td>947</td>\n",
       "      <td>1029.0</td>\n",
       "      <td>1029</td>\n",
       "      <td>HA</td>\n",
       "      <td>119</td>\n",
       "      <td>...</td>\n",
       "      <td>5.0</td>\n",
       "      <td>6.0</td>\n",
       "      <td>0</td>\n",
       "      <td>NaN</td>\n",
       "      <td>0</td>\n",
       "      <td>NaN</td>\n",
       "      <td>NaN</td>\n",
       "      <td>NaN</td>\n",
       "      <td>NaN</td>\n",
       "      <td>NaN</td>\n",
       "    </tr>\n",
       "    <tr>\n",
       "      <th>1017136</th>\n",
       "      <td>2008</td>\n",
       "      <td>2</td>\n",
       "      <td>16</td>\n",
       "      <td>6</td>\n",
       "      <td>1109.0</td>\n",
       "      <td>1020</td>\n",
       "      <td>1355.0</td>\n",
       "      <td>1308</td>\n",
       "      <td>NW</td>\n",
       "      <td>748</td>\n",
       "      <td>...</td>\n",
       "      <td>14.0</td>\n",
       "      <td>26.0</td>\n",
       "      <td>0</td>\n",
       "      <td>NaN</td>\n",
       "      <td>0</td>\n",
       "      <td>14.0</td>\n",
       "      <td>0.0</td>\n",
       "      <td>0.0</td>\n",
       "      <td>0.0</td>\n",
       "      <td>33.0</td>\n",
       "    </tr>\n",
       "    <tr>\n",
       "      <th>1150943</th>\n",
       "      <td>2008</td>\n",
       "      <td>2</td>\n",
       "      <td>19</td>\n",
       "      <td>2</td>\n",
       "      <td>1237.0</td>\n",
       "      <td>1240</td>\n",
       "      <td>1630.0</td>\n",
       "      <td>1639</td>\n",
       "      <td>CO</td>\n",
       "      <td>290</td>\n",
       "      <td>...</td>\n",
       "      <td>13.0</td>\n",
       "      <td>8.0</td>\n",
       "      <td>0</td>\n",
       "      <td>NaN</td>\n",
       "      <td>0</td>\n",
       "      <td>NaN</td>\n",
       "      <td>NaN</td>\n",
       "      <td>NaN</td>\n",
       "      <td>NaN</td>\n",
       "      <td>NaN</td>\n",
       "    </tr>\n",
       "    <tr>\n",
       "      <th>2145554</th>\n",
       "      <td>2008</td>\n",
       "      <td>4</td>\n",
       "      <td>11</td>\n",
       "      <td>5</td>\n",
       "      <td>1310.0</td>\n",
       "      <td>1318</td>\n",
       "      <td>1452.0</td>\n",
       "      <td>1503</td>\n",
       "      <td>FL</td>\n",
       "      <td>993</td>\n",
       "      <td>...</td>\n",
       "      <td>9.0</td>\n",
       "      <td>8.0</td>\n",
       "      <td>0</td>\n",
       "      <td>NaN</td>\n",
       "      <td>0</td>\n",
       "      <td>NaN</td>\n",
       "      <td>NaN</td>\n",
       "      <td>NaN</td>\n",
       "      <td>NaN</td>\n",
       "      <td>NaN</td>\n",
       "    </tr>\n",
       "    <tr>\n",
       "      <th>6198430</th>\n",
       "      <td>2008</td>\n",
       "      <td>11</td>\n",
       "      <td>2</td>\n",
       "      <td>7</td>\n",
       "      <td>1211.0</td>\n",
       "      <td>1210</td>\n",
       "      <td>1323.0</td>\n",
       "      <td>1325</td>\n",
       "      <td>WN</td>\n",
       "      <td>2844</td>\n",
       "      <td>...</td>\n",
       "      <td>6.0</td>\n",
       "      <td>12.0</td>\n",
       "      <td>0</td>\n",
       "      <td>NaN</td>\n",
       "      <td>0</td>\n",
       "      <td>NaN</td>\n",
       "      <td>NaN</td>\n",
       "      <td>NaN</td>\n",
       "      <td>NaN</td>\n",
       "      <td>NaN</td>\n",
       "    </tr>\n",
       "  </tbody>\n",
       "</table>\n",
       "<p>5 rows × 29 columns</p>\n",
       "</div>"
      ],
      "text/plain": [
       "         Year  Month  DayofMonth  DayOfWeek  DepTime  CRSDepTime  ArrTime  \\\n",
       "5735095  2008     10          30          4    949.0         947   1029.0   \n",
       "1017136  2008      2          16          6   1109.0        1020   1355.0   \n",
       "1150943  2008      2          19          2   1237.0        1240   1630.0   \n",
       "2145554  2008      4          11          5   1310.0        1318   1452.0   \n",
       "6198430  2008     11           2          7   1211.0        1210   1323.0   \n",
       "\n",
       "         CRSArrTime UniqueCarrier  FlightNum  ... TaxiIn  TaxiOut  Cancelled  \\\n",
       "5735095        1029            HA        119  ...    5.0      6.0          0   \n",
       "1017136        1308            NW        748  ...   14.0     26.0          0   \n",
       "1150943        1639            CO        290  ...   13.0      8.0          0   \n",
       "2145554        1503            FL        993  ...    9.0      8.0          0   \n",
       "6198430        1325            WN       2844  ...    6.0     12.0          0   \n",
       "\n",
       "         CancellationCode  Diverted  CarrierDelay WeatherDelay NASDelay  \\\n",
       "5735095               NaN         0           NaN          NaN      NaN   \n",
       "1017136               NaN         0          14.0          0.0      0.0   \n",
       "1150943               NaN         0           NaN          NaN      NaN   \n",
       "2145554               NaN         0           NaN          NaN      NaN   \n",
       "6198430               NaN         0           NaN          NaN      NaN   \n",
       "\n",
       "         SecurityDelay  LateAircraftDelay  \n",
       "5735095            NaN                NaN  \n",
       "1017136            0.0               33.0  \n",
       "1150943            NaN                NaN  \n",
       "2145554            NaN                NaN  \n",
       "6198430            NaN                NaN  \n",
       "\n",
       "[5 rows x 29 columns]"
      ]
     },
     "execution_count": 3,
     "metadata": {},
     "output_type": "execute_result"
    }
   ],
   "source": [
    "#Display some records from df_2008\n",
    "df_2008.sample(5)"
   ]
  },
  {
   "cell_type": "code",
   "execution_count": 4,
   "metadata": {
    "slideshow": {
     "slide_type": "skip"
    }
   },
   "outputs": [
    {
     "data": {
      "text/html": [
       "<div>\n",
       "<style scoped>\n",
       "    .dataframe tbody tr th:only-of-type {\n",
       "        vertical-align: middle;\n",
       "    }\n",
       "\n",
       "    .dataframe tbody tr th {\n",
       "        vertical-align: top;\n",
       "    }\n",
       "\n",
       "    .dataframe thead th {\n",
       "        text-align: right;\n",
       "    }\n",
       "</style>\n",
       "<table border=\"1\" class=\"dataframe\">\n",
       "  <thead>\n",
       "    <tr style=\"text-align: right;\">\n",
       "      <th></th>\n",
       "      <th>Year</th>\n",
       "      <th>Month</th>\n",
       "      <th>DayofMonth</th>\n",
       "      <th>DayOfWeek</th>\n",
       "      <th>DepTime</th>\n",
       "      <th>CRSDepTime</th>\n",
       "      <th>ArrTime</th>\n",
       "      <th>CRSArrTime</th>\n",
       "      <th>UniqueCarrier</th>\n",
       "      <th>FlightNum</th>\n",
       "      <th>...</th>\n",
       "      <th>TaxiIn</th>\n",
       "      <th>TaxiOut</th>\n",
       "      <th>Cancelled</th>\n",
       "      <th>CancellationCode</th>\n",
       "      <th>Diverted</th>\n",
       "      <th>CarrierDelay</th>\n",
       "      <th>WeatherDelay</th>\n",
       "      <th>NASDelay</th>\n",
       "      <th>SecurityDelay</th>\n",
       "      <th>LateAircraftDelay</th>\n",
       "    </tr>\n",
       "  </thead>\n",
       "  <tbody>\n",
       "    <tr>\n",
       "      <th>1905873</th>\n",
       "      <td>2007</td>\n",
       "      <td>4</td>\n",
       "      <td>26</td>\n",
       "      <td>4</td>\n",
       "      <td>1045.0</td>\n",
       "      <td>1050</td>\n",
       "      <td>1212.0</td>\n",
       "      <td>1205</td>\n",
       "      <td>WN</td>\n",
       "      <td>884</td>\n",
       "      <td>...</td>\n",
       "      <td>3</td>\n",
       "      <td>20</td>\n",
       "      <td>0</td>\n",
       "      <td>NaN</td>\n",
       "      <td>0</td>\n",
       "      <td>0</td>\n",
       "      <td>0</td>\n",
       "      <td>0</td>\n",
       "      <td>0</td>\n",
       "      <td>0</td>\n",
       "    </tr>\n",
       "    <tr>\n",
       "      <th>5944608</th>\n",
       "      <td>2007</td>\n",
       "      <td>10</td>\n",
       "      <td>7</td>\n",
       "      <td>7</td>\n",
       "      <td>1339.0</td>\n",
       "      <td>1345</td>\n",
       "      <td>1447.0</td>\n",
       "      <td>1455</td>\n",
       "      <td>EV</td>\n",
       "      <td>4390</td>\n",
       "      <td>...</td>\n",
       "      <td>10</td>\n",
       "      <td>18</td>\n",
       "      <td>0</td>\n",
       "      <td>NaN</td>\n",
       "      <td>0</td>\n",
       "      <td>0</td>\n",
       "      <td>0</td>\n",
       "      <td>0</td>\n",
       "      <td>0</td>\n",
       "      <td>0</td>\n",
       "    </tr>\n",
       "    <tr>\n",
       "      <th>405405</th>\n",
       "      <td>2007</td>\n",
       "      <td>1</td>\n",
       "      <td>22</td>\n",
       "      <td>1</td>\n",
       "      <td>1120.0</td>\n",
       "      <td>1120</td>\n",
       "      <td>1224.0</td>\n",
       "      <td>1235</td>\n",
       "      <td>MQ</td>\n",
       "      <td>3895</td>\n",
       "      <td>...</td>\n",
       "      <td>5</td>\n",
       "      <td>17</td>\n",
       "      <td>0</td>\n",
       "      <td>NaN</td>\n",
       "      <td>0</td>\n",
       "      <td>0</td>\n",
       "      <td>0</td>\n",
       "      <td>0</td>\n",
       "      <td>0</td>\n",
       "      <td>0</td>\n",
       "    </tr>\n",
       "    <tr>\n",
       "      <th>1024498</th>\n",
       "      <td>2007</td>\n",
       "      <td>2</td>\n",
       "      <td>11</td>\n",
       "      <td>7</td>\n",
       "      <td>610.0</td>\n",
       "      <td>615</td>\n",
       "      <td>821.0</td>\n",
       "      <td>824</td>\n",
       "      <td>NW</td>\n",
       "      <td>513</td>\n",
       "      <td>...</td>\n",
       "      <td>8</td>\n",
       "      <td>24</td>\n",
       "      <td>0</td>\n",
       "      <td>NaN</td>\n",
       "      <td>0</td>\n",
       "      <td>0</td>\n",
       "      <td>0</td>\n",
       "      <td>0</td>\n",
       "      <td>0</td>\n",
       "      <td>0</td>\n",
       "    </tr>\n",
       "    <tr>\n",
       "      <th>550606</th>\n",
       "      <td>2007</td>\n",
       "      <td>1</td>\n",
       "      <td>18</td>\n",
       "      <td>4</td>\n",
       "      <td>600.0</td>\n",
       "      <td>600</td>\n",
       "      <td>1032.0</td>\n",
       "      <td>1031</td>\n",
       "      <td>AS</td>\n",
       "      <td>808</td>\n",
       "      <td>...</td>\n",
       "      <td>7</td>\n",
       "      <td>20</td>\n",
       "      <td>0</td>\n",
       "      <td>NaN</td>\n",
       "      <td>0</td>\n",
       "      <td>0</td>\n",
       "      <td>0</td>\n",
       "      <td>0</td>\n",
       "      <td>0</td>\n",
       "      <td>0</td>\n",
       "    </tr>\n",
       "  </tbody>\n",
       "</table>\n",
       "<p>5 rows × 29 columns</p>\n",
       "</div>"
      ],
      "text/plain": [
       "         Year  Month  DayofMonth  DayOfWeek  DepTime  CRSDepTime  ArrTime  \\\n",
       "1905873  2007      4          26          4   1045.0        1050   1212.0   \n",
       "5944608  2007     10           7          7   1339.0        1345   1447.0   \n",
       "405405   2007      1          22          1   1120.0        1120   1224.0   \n",
       "1024498  2007      2          11          7    610.0         615    821.0   \n",
       "550606   2007      1          18          4    600.0         600   1032.0   \n",
       "\n",
       "         CRSArrTime UniqueCarrier  FlightNum  ... TaxiIn  TaxiOut  Cancelled  \\\n",
       "1905873        1205            WN        884  ...      3       20          0   \n",
       "5944608        1455            EV       4390  ...     10       18          0   \n",
       "405405         1235            MQ       3895  ...      5       17          0   \n",
       "1024498         824            NW        513  ...      8       24          0   \n",
       "550606         1031            AS        808  ...      7       20          0   \n",
       "\n",
       "         CancellationCode  Diverted  CarrierDelay WeatherDelay NASDelay  \\\n",
       "1905873               NaN         0             0            0        0   \n",
       "5944608               NaN         0             0            0        0   \n",
       "405405                NaN         0             0            0        0   \n",
       "1024498               NaN         0             0            0        0   \n",
       "550606                NaN         0             0            0        0   \n",
       "\n",
       "         SecurityDelay  LateAircraftDelay  \n",
       "1905873              0                  0  \n",
       "5944608              0                  0  \n",
       "405405               0                  0  \n",
       "1024498              0                  0  \n",
       "550606               0                  0  \n",
       "\n",
       "[5 rows x 29 columns]"
      ]
     },
     "execution_count": 4,
     "metadata": {},
     "output_type": "execute_result"
    }
   ],
   "source": [
    "#Display some records from df_2007\n",
    "df_2007.sample(5)"
   ]
  },
  {
   "cell_type": "code",
   "execution_count": 5,
   "metadata": {
    "slideshow": {
     "slide_type": "skip"
    }
   },
   "outputs": [
    {
     "data": {
      "text/html": [
       "<div>\n",
       "<style scoped>\n",
       "    .dataframe tbody tr th:only-of-type {\n",
       "        vertical-align: middle;\n",
       "    }\n",
       "\n",
       "    .dataframe tbody tr th {\n",
       "        vertical-align: top;\n",
       "    }\n",
       "\n",
       "    .dataframe thead th {\n",
       "        text-align: right;\n",
       "    }\n",
       "</style>\n",
       "<table border=\"1\" class=\"dataframe\">\n",
       "  <thead>\n",
       "    <tr style=\"text-align: right;\">\n",
       "      <th></th>\n",
       "      <th>Year</th>\n",
       "      <th>Month</th>\n",
       "      <th>DayofMonth</th>\n",
       "      <th>DayOfWeek</th>\n",
       "      <th>DepTime</th>\n",
       "      <th>CRSDepTime</th>\n",
       "      <th>ArrTime</th>\n",
       "      <th>CRSArrTime</th>\n",
       "      <th>UniqueCarrier</th>\n",
       "      <th>FlightNum</th>\n",
       "      <th>...</th>\n",
       "      <th>TaxiIn</th>\n",
       "      <th>TaxiOut</th>\n",
       "      <th>Cancelled</th>\n",
       "      <th>CancellationCode</th>\n",
       "      <th>Diverted</th>\n",
       "      <th>CarrierDelay</th>\n",
       "      <th>WeatherDelay</th>\n",
       "      <th>NASDelay</th>\n",
       "      <th>SecurityDelay</th>\n",
       "      <th>LateAircraftDelay</th>\n",
       "    </tr>\n",
       "  </thead>\n",
       "  <tbody>\n",
       "    <tr>\n",
       "      <th>3794916</th>\n",
       "      <td>2006</td>\n",
       "      <td>7</td>\n",
       "      <td>22</td>\n",
       "      <td>6</td>\n",
       "      <td>841.0</td>\n",
       "      <td>830</td>\n",
       "      <td>1100.0</td>\n",
       "      <td>1059</td>\n",
       "      <td>US</td>\n",
       "      <td>211</td>\n",
       "      <td>...</td>\n",
       "      <td>4</td>\n",
       "      <td>16</td>\n",
       "      <td>0</td>\n",
       "      <td>NaN</td>\n",
       "      <td>0</td>\n",
       "      <td>0</td>\n",
       "      <td>0</td>\n",
       "      <td>0</td>\n",
       "      <td>0</td>\n",
       "      <td>0</td>\n",
       "    </tr>\n",
       "    <tr>\n",
       "      <th>1294212</th>\n",
       "      <td>2006</td>\n",
       "      <td>3</td>\n",
       "      <td>13</td>\n",
       "      <td>1</td>\n",
       "      <td>1956.0</td>\n",
       "      <td>1945</td>\n",
       "      <td>2110.0</td>\n",
       "      <td>2039</td>\n",
       "      <td>OO</td>\n",
       "      <td>6896</td>\n",
       "      <td>...</td>\n",
       "      <td>26</td>\n",
       "      <td>20</td>\n",
       "      <td>0</td>\n",
       "      <td>NaN</td>\n",
       "      <td>0</td>\n",
       "      <td>31</td>\n",
       "      <td>0</td>\n",
       "      <td>0</td>\n",
       "      <td>0</td>\n",
       "      <td>0</td>\n",
       "    </tr>\n",
       "    <tr>\n",
       "      <th>1395350</th>\n",
       "      <td>2006</td>\n",
       "      <td>3</td>\n",
       "      <td>15</td>\n",
       "      <td>3</td>\n",
       "      <td>1045.0</td>\n",
       "      <td>1045</td>\n",
       "      <td>1328.0</td>\n",
       "      <td>1344</td>\n",
       "      <td>UA</td>\n",
       "      <td>1230</td>\n",
       "      <td>...</td>\n",
       "      <td>4</td>\n",
       "      <td>11</td>\n",
       "      <td>0</td>\n",
       "      <td>NaN</td>\n",
       "      <td>0</td>\n",
       "      <td>0</td>\n",
       "      <td>0</td>\n",
       "      <td>0</td>\n",
       "      <td>0</td>\n",
       "      <td>0</td>\n",
       "    </tr>\n",
       "    <tr>\n",
       "      <th>4029863</th>\n",
       "      <td>2006</td>\n",
       "      <td>7</td>\n",
       "      <td>20</td>\n",
       "      <td>4</td>\n",
       "      <td>2157.0</td>\n",
       "      <td>2107</td>\n",
       "      <td>2357.0</td>\n",
       "      <td>2317</td>\n",
       "      <td>AS</td>\n",
       "      <td>695</td>\n",
       "      <td>...</td>\n",
       "      <td>6</td>\n",
       "      <td>13</td>\n",
       "      <td>0</td>\n",
       "      <td>NaN</td>\n",
       "      <td>0</td>\n",
       "      <td>0</td>\n",
       "      <td>40</td>\n",
       "      <td>0</td>\n",
       "      <td>0</td>\n",
       "      <td>0</td>\n",
       "    </tr>\n",
       "    <tr>\n",
       "      <th>2686331</th>\n",
       "      <td>2006</td>\n",
       "      <td>5</td>\n",
       "      <td>15</td>\n",
       "      <td>1</td>\n",
       "      <td>825.0</td>\n",
       "      <td>826</td>\n",
       "      <td>1112.0</td>\n",
       "      <td>1115</td>\n",
       "      <td>MQ</td>\n",
       "      <td>3997</td>\n",
       "      <td>...</td>\n",
       "      <td>3</td>\n",
       "      <td>17</td>\n",
       "      <td>0</td>\n",
       "      <td>NaN</td>\n",
       "      <td>0</td>\n",
       "      <td>0</td>\n",
       "      <td>0</td>\n",
       "      <td>0</td>\n",
       "      <td>0</td>\n",
       "      <td>0</td>\n",
       "    </tr>\n",
       "  </tbody>\n",
       "</table>\n",
       "<p>5 rows × 29 columns</p>\n",
       "</div>"
      ],
      "text/plain": [
       "         Year  Month  DayofMonth  DayOfWeek  DepTime  CRSDepTime  ArrTime  \\\n",
       "3794916  2006      7          22          6    841.0         830   1100.0   \n",
       "1294212  2006      3          13          1   1956.0        1945   2110.0   \n",
       "1395350  2006      3          15          3   1045.0        1045   1328.0   \n",
       "4029863  2006      7          20          4   2157.0        2107   2357.0   \n",
       "2686331  2006      5          15          1    825.0         826   1112.0   \n",
       "\n",
       "         CRSArrTime UniqueCarrier  FlightNum  ... TaxiIn  TaxiOut  Cancelled  \\\n",
       "3794916        1059            US        211  ...      4       16          0   \n",
       "1294212        2039            OO       6896  ...     26       20          0   \n",
       "1395350        1344            UA       1230  ...      4       11          0   \n",
       "4029863        2317            AS        695  ...      6       13          0   \n",
       "2686331        1115            MQ       3997  ...      3       17          0   \n",
       "\n",
       "         CancellationCode  Diverted  CarrierDelay WeatherDelay NASDelay  \\\n",
       "3794916               NaN         0             0            0        0   \n",
       "1294212               NaN         0            31            0        0   \n",
       "1395350               NaN         0             0            0        0   \n",
       "4029863               NaN         0             0           40        0   \n",
       "2686331               NaN         0             0            0        0   \n",
       "\n",
       "         SecurityDelay  LateAircraftDelay  \n",
       "3794916              0                  0  \n",
       "1294212              0                  0  \n",
       "1395350              0                  0  \n",
       "4029863              0                  0  \n",
       "2686331              0                  0  \n",
       "\n",
       "[5 rows x 29 columns]"
      ]
     },
     "execution_count": 5,
     "metadata": {},
     "output_type": "execute_result"
    }
   ],
   "source": [
    "#Display some records from df_2006\n",
    "df_2006.sample(5)"
   ]
  },
  {
   "cell_type": "code",
   "execution_count": 6,
   "metadata": {
    "slideshow": {
     "slide_type": "skip"
    }
   },
   "outputs": [
    {
     "name": "stdout",
     "output_type": "stream",
     "text": [
      "<class 'pandas.core.frame.DataFrame'>\n",
      "RangeIndex: 7009728 entries, 0 to 7009727\n",
      "Data columns (total 29 columns):\n",
      " #   Column             Dtype  \n",
      "---  ------             -----  \n",
      " 0   Year               int64  \n",
      " 1   Month              int64  \n",
      " 2   DayofMonth         int64  \n",
      " 3   DayOfWeek          int64  \n",
      " 4   DepTime            float64\n",
      " 5   CRSDepTime         int64  \n",
      " 6   ArrTime            float64\n",
      " 7   CRSArrTime         int64  \n",
      " 8   UniqueCarrier      object \n",
      " 9   FlightNum          int64  \n",
      " 10  TailNum            object \n",
      " 11  ActualElapsedTime  float64\n",
      " 12  CRSElapsedTime     float64\n",
      " 13  AirTime            float64\n",
      " 14  ArrDelay           float64\n",
      " 15  DepDelay           float64\n",
      " 16  Origin             object \n",
      " 17  Dest               object \n",
      " 18  Distance           int64  \n",
      " 19  TaxiIn             float64\n",
      " 20  TaxiOut            float64\n",
      " 21  Cancelled          int64  \n",
      " 22  CancellationCode   object \n",
      " 23  Diverted           int64  \n",
      " 24  CarrierDelay       float64\n",
      " 25  WeatherDelay       float64\n",
      " 26  NASDelay           float64\n",
      " 27  SecurityDelay      float64\n",
      " 28  LateAircraftDelay  float64\n",
      "dtypes: float64(14), int64(10), object(5)\n",
      "memory usage: 1.5+ GB\n"
     ]
    }
   ],
   "source": [
    "# Display data column info for df_2008\n",
    "df_2008.info()"
   ]
  },
  {
   "cell_type": "code",
   "execution_count": 7,
   "metadata": {
    "slideshow": {
     "slide_type": "skip"
    }
   },
   "outputs": [
    {
     "name": "stdout",
     "output_type": "stream",
     "text": [
      "<class 'pandas.core.frame.DataFrame'>\n",
      "RangeIndex: 7453215 entries, 0 to 7453214\n",
      "Data columns (total 29 columns):\n",
      " #   Column             Dtype  \n",
      "---  ------             -----  \n",
      " 0   Year               int64  \n",
      " 1   Month              int64  \n",
      " 2   DayofMonth         int64  \n",
      " 3   DayOfWeek          int64  \n",
      " 4   DepTime            float64\n",
      " 5   CRSDepTime         int64  \n",
      " 6   ArrTime            float64\n",
      " 7   CRSArrTime         int64  \n",
      " 8   UniqueCarrier      object \n",
      " 9   FlightNum          int64  \n",
      " 10  TailNum            object \n",
      " 11  ActualElapsedTime  float64\n",
      " 12  CRSElapsedTime     float64\n",
      " 13  AirTime            float64\n",
      " 14  ArrDelay           float64\n",
      " 15  DepDelay           float64\n",
      " 16  Origin             object \n",
      " 17  Dest               object \n",
      " 18  Distance           int64  \n",
      " 19  TaxiIn             int64  \n",
      " 20  TaxiOut            int64  \n",
      " 21  Cancelled          int64  \n",
      " 22  CancellationCode   object \n",
      " 23  Diverted           int64  \n",
      " 24  CarrierDelay       int64  \n",
      " 25  WeatherDelay       int64  \n",
      " 26  NASDelay           int64  \n",
      " 27  SecurityDelay      int64  \n",
      " 28  LateAircraftDelay  int64  \n",
      "dtypes: float64(7), int64(17), object(5)\n",
      "memory usage: 1.6+ GB\n"
     ]
    }
   ],
   "source": [
    "# Display data column info for df_2007\n",
    "df_2007.info()"
   ]
  },
  {
   "cell_type": "code",
   "execution_count": 8,
   "metadata": {
    "slideshow": {
     "slide_type": "skip"
    }
   },
   "outputs": [
    {
     "name": "stdout",
     "output_type": "stream",
     "text": [
      "<class 'pandas.core.frame.DataFrame'>\n",
      "RangeIndex: 7141922 entries, 0 to 7141921\n",
      "Data columns (total 29 columns):\n",
      " #   Column             Dtype  \n",
      "---  ------             -----  \n",
      " 0   Year               int64  \n",
      " 1   Month              int64  \n",
      " 2   DayofMonth         int64  \n",
      " 3   DayOfWeek          int64  \n",
      " 4   DepTime            float64\n",
      " 5   CRSDepTime         int64  \n",
      " 6   ArrTime            float64\n",
      " 7   CRSArrTime         int64  \n",
      " 8   UniqueCarrier      object \n",
      " 9   FlightNum          int64  \n",
      " 10  TailNum            object \n",
      " 11  ActualElapsedTime  float64\n",
      " 12  CRSElapsedTime     float64\n",
      " 13  AirTime            float64\n",
      " 14  ArrDelay           float64\n",
      " 15  DepDelay           float64\n",
      " 16  Origin             object \n",
      " 17  Dest               object \n",
      " 18  Distance           int64  \n",
      " 19  TaxiIn             int64  \n",
      " 20  TaxiOut            int64  \n",
      " 21  Cancelled          int64  \n",
      " 22  CancellationCode   object \n",
      " 23  Diverted           int64  \n",
      " 24  CarrierDelay       int64  \n",
      " 25  WeatherDelay       int64  \n",
      " 26  NASDelay           int64  \n",
      " 27  SecurityDelay      int64  \n",
      " 28  LateAircraftDelay  int64  \n",
      "dtypes: float64(7), int64(17), object(5)\n",
      "memory usage: 1.5+ GB\n"
     ]
    }
   ],
   "source": [
    "# Display data column info for df_2006\n",
    "df_2006.info()"
   ]
  },
  {
   "cell_type": "markdown",
   "metadata": {
    "slideshow": {
     "slide_type": "skip"
    }
   },
   "source": [
    ">All 29 columns names are the same. The datatype for the fields - TaxiIn, TaxiOut, CarrierDelay, WeatherDelay, NASDelay, SecurityDelay and LateAircraftDelay - are float64 in df_2008 whereas they are of type int64 in df_2007 and df_2006."
   ]
  },
  {
   "cell_type": "code",
   "execution_count": 9,
   "metadata": {
    "slideshow": {
     "slide_type": "skip"
    }
   },
   "outputs": [
    {
     "data": {
      "text/plain": [
       "Year                 7009728\n",
       "Month                7009728\n",
       "DayofMonth           7009728\n",
       "DayOfWeek            7009728\n",
       "DepTime              6873482\n",
       "CRSDepTime           7009728\n",
       "ArrTime              6858079\n",
       "CRSArrTime           7009728\n",
       "UniqueCarrier        7009728\n",
       "FlightNum            7009728\n",
       "TailNum              6926363\n",
       "ActualElapsedTime    6855029\n",
       "CRSElapsedTime       7008884\n",
       "AirTime              6855029\n",
       "ArrDelay             6855029\n",
       "DepDelay             6873482\n",
       "Origin               7009728\n",
       "Dest                 7009728\n",
       "Distance             7009728\n",
       "TaxiIn               6858079\n",
       "TaxiOut              6872670\n",
       "Cancelled            7009728\n",
       "CancellationCode      137434\n",
       "Diverted             7009728\n",
       "CarrierDelay         1524735\n",
       "WeatherDelay         1524735\n",
       "NASDelay             1524735\n",
       "SecurityDelay        1524735\n",
       "LateAircraftDelay    1524735\n",
       "dtype: int64"
      ]
     },
     "execution_count": 9,
     "metadata": {},
     "output_type": "execute_result"
    }
   ],
   "source": [
    "# Check number of non null values in each column of df_2008\n",
    "df_2008.count()"
   ]
  },
  {
   "cell_type": "markdown",
   "metadata": {
    "slideshow": {
     "slide_type": "skip"
    }
   },
   "source": [
    ">The total number of records in the dataframe df_2008 is 7009728. \n",
    ">\n",
    ">The following columns have missing values:\n",
    ">   1. DepTime - 6873482             (136,246 missing values) \n",
    ">   2. ArrTime - 6858079             (151,649 missing values)\n",
    ">   3. TailNum - 6926363             ( 83,365 missing values)\n",
    ">   4. ActualElapsedTime - 6855029   (154,699 missing values)\n",
    ">   5. CRSElapsedTime - 7008884      (    844 missing values)\n",
    ">   6. AirTime - 6855029             (154,699 missing values)\n",
    ">   7. ArrDelay - 6855029            (154,699 missing values)\n",
    ">   8. DepDelay - 6873482            (136,246 missing values)\n",
    ">   9. TaxiIn - 6858079              (151,649 missing values)\n",
    ">   10. TaxiOut - 6872670            (137,058 missing values)\n",
    ">   11. CancellationCode - 137434  (6,872,294 missing values)\n",
    ">   12. CarrierDelay - 1524735     (5,484,993 missing values)\n",
    ">   13. WeatherDelay - 1524735     (5,484,993 missing values)\n",
    ">   14. NASDelay - 1524735         (5,484,993 missing values)\n",
    ">   15. SecurityDelay - 1524735    (5,484,993 missing values)\n",
    ">   16. LateAircraftDelay- 1524735 (5,484,993 missing values)"
   ]
  },
  {
   "cell_type": "code",
   "execution_count": 10,
   "metadata": {
    "slideshow": {
     "slide_type": "skip"
    }
   },
   "outputs": [
    {
     "data": {
      "text/plain": [
       "B    54904\n",
       "A    54330\n",
       "C    28188\n",
       "D       12\n",
       "Name: CancellationCode, dtype: int64"
      ]
     },
     "execution_count": 10,
     "metadata": {},
     "output_type": "execute_result"
    }
   ],
   "source": [
    "#cancellation count by code for df_2008 - this adds up to 137434 as shown above\n",
    "df_2008.CancellationCode.value_counts()"
   ]
  },
  {
   "cell_type": "code",
   "execution_count": 11,
   "metadata": {
    "slideshow": {
     "slide_type": "skip"
    }
   },
   "outputs": [
    {
     "data": {
      "text/html": [
       "<div>\n",
       "<style scoped>\n",
       "    .dataframe tbody tr th:only-of-type {\n",
       "        vertical-align: middle;\n",
       "    }\n",
       "\n",
       "    .dataframe tbody tr th {\n",
       "        vertical-align: top;\n",
       "    }\n",
       "\n",
       "    .dataframe thead th {\n",
       "        text-align: right;\n",
       "    }\n",
       "</style>\n",
       "<table border=\"1\" class=\"dataframe\">\n",
       "  <thead>\n",
       "    <tr style=\"text-align: right;\">\n",
       "      <th></th>\n",
       "      <th>Year</th>\n",
       "      <th>Month</th>\n",
       "      <th>DayofMonth</th>\n",
       "      <th>DayOfWeek</th>\n",
       "      <th>DepTime</th>\n",
       "      <th>CRSDepTime</th>\n",
       "      <th>ArrTime</th>\n",
       "      <th>CRSArrTime</th>\n",
       "      <th>UniqueCarrier</th>\n",
       "      <th>FlightNum</th>\n",
       "      <th>...</th>\n",
       "      <th>TaxiIn</th>\n",
       "      <th>TaxiOut</th>\n",
       "      <th>Cancelled</th>\n",
       "      <th>CancellationCode</th>\n",
       "      <th>Diverted</th>\n",
       "      <th>CarrierDelay</th>\n",
       "      <th>WeatherDelay</th>\n",
       "      <th>NASDelay</th>\n",
       "      <th>SecurityDelay</th>\n",
       "      <th>LateAircraftDelay</th>\n",
       "    </tr>\n",
       "  </thead>\n",
       "  <tbody>\n",
       "    <tr>\n",
       "      <th>1763</th>\n",
       "      <td>2008</td>\n",
       "      <td>1</td>\n",
       "      <td>3</td>\n",
       "      <td>4</td>\n",
       "      <td>922.0</td>\n",
       "      <td>915</td>\n",
       "      <td>NaN</td>\n",
       "      <td>1050</td>\n",
       "      <td>WN</td>\n",
       "      <td>1069</td>\n",
       "      <td>...</td>\n",
       "      <td>NaN</td>\n",
       "      <td>12.0</td>\n",
       "      <td>0</td>\n",
       "      <td>NaN</td>\n",
       "      <td>1</td>\n",
       "      <td>NaN</td>\n",
       "      <td>NaN</td>\n",
       "      <td>NaN</td>\n",
       "      <td>NaN</td>\n",
       "      <td>NaN</td>\n",
       "    </tr>\n",
       "    <tr>\n",
       "      <th>1911</th>\n",
       "      <td>2008</td>\n",
       "      <td>1</td>\n",
       "      <td>3</td>\n",
       "      <td>4</td>\n",
       "      <td>2325.0</td>\n",
       "      <td>1900</td>\n",
       "      <td>NaN</td>\n",
       "      <td>2030</td>\n",
       "      <td>WN</td>\n",
       "      <td>2092</td>\n",
       "      <td>...</td>\n",
       "      <td>NaN</td>\n",
       "      <td>11.0</td>\n",
       "      <td>0</td>\n",
       "      <td>NaN</td>\n",
       "      <td>1</td>\n",
       "      <td>NaN</td>\n",
       "      <td>NaN</td>\n",
       "      <td>NaN</td>\n",
       "      <td>NaN</td>\n",
       "      <td>NaN</td>\n",
       "    </tr>\n",
       "    <tr>\n",
       "      <th>2651</th>\n",
       "      <td>2008</td>\n",
       "      <td>1</td>\n",
       "      <td>4</td>\n",
       "      <td>5</td>\n",
       "      <td>1949.0</td>\n",
       "      <td>1905</td>\n",
       "      <td>NaN</td>\n",
       "      <td>1910</td>\n",
       "      <td>WN</td>\n",
       "      <td>1403</td>\n",
       "      <td>...</td>\n",
       "      <td>NaN</td>\n",
       "      <td>11.0</td>\n",
       "      <td>0</td>\n",
       "      <td>NaN</td>\n",
       "      <td>1</td>\n",
       "      <td>NaN</td>\n",
       "      <td>NaN</td>\n",
       "      <td>NaN</td>\n",
       "      <td>NaN</td>\n",
       "      <td>NaN</td>\n",
       "    </tr>\n",
       "    <tr>\n",
       "      <th>2726</th>\n",
       "      <td>2008</td>\n",
       "      <td>1</td>\n",
       "      <td>4</td>\n",
       "      <td>5</td>\n",
       "      <td>737.0</td>\n",
       "      <td>705</td>\n",
       "      <td>NaN</td>\n",
       "      <td>825</td>\n",
       "      <td>WN</td>\n",
       "      <td>178</td>\n",
       "      <td>...</td>\n",
       "      <td>NaN</td>\n",
       "      <td>13.0</td>\n",
       "      <td>0</td>\n",
       "      <td>NaN</td>\n",
       "      <td>1</td>\n",
       "      <td>NaN</td>\n",
       "      <td>NaN</td>\n",
       "      <td>NaN</td>\n",
       "      <td>NaN</td>\n",
       "      <td>NaN</td>\n",
       "    </tr>\n",
       "    <tr>\n",
       "      <th>3383</th>\n",
       "      <td>2008</td>\n",
       "      <td>1</td>\n",
       "      <td>4</td>\n",
       "      <td>5</td>\n",
       "      <td>931.0</td>\n",
       "      <td>930</td>\n",
       "      <td>NaN</td>\n",
       "      <td>1145</td>\n",
       "      <td>WN</td>\n",
       "      <td>2011</td>\n",
       "      <td>...</td>\n",
       "      <td>NaN</td>\n",
       "      <td>10.0</td>\n",
       "      <td>0</td>\n",
       "      <td>NaN</td>\n",
       "      <td>1</td>\n",
       "      <td>NaN</td>\n",
       "      <td>NaN</td>\n",
       "      <td>NaN</td>\n",
       "      <td>NaN</td>\n",
       "      <td>NaN</td>\n",
       "    </tr>\n",
       "    <tr>\n",
       "      <th>...</th>\n",
       "      <td>...</td>\n",
       "      <td>...</td>\n",
       "      <td>...</td>\n",
       "      <td>...</td>\n",
       "      <td>...</td>\n",
       "      <td>...</td>\n",
       "      <td>...</td>\n",
       "      <td>...</td>\n",
       "      <td>...</td>\n",
       "      <td>...</td>\n",
       "      <td>...</td>\n",
       "      <td>...</td>\n",
       "      <td>...</td>\n",
       "      <td>...</td>\n",
       "      <td>...</td>\n",
       "      <td>...</td>\n",
       "      <td>...</td>\n",
       "      <td>...</td>\n",
       "      <td>...</td>\n",
       "      <td>...</td>\n",
       "      <td>...</td>\n",
       "    </tr>\n",
       "    <tr>\n",
       "      <th>6978884</th>\n",
       "      <td>2008</td>\n",
       "      <td>12</td>\n",
       "      <td>21</td>\n",
       "      <td>7</td>\n",
       "      <td>728.0</td>\n",
       "      <td>715</td>\n",
       "      <td>NaN</td>\n",
       "      <td>1150</td>\n",
       "      <td>CO</td>\n",
       "      <td>282</td>\n",
       "      <td>...</td>\n",
       "      <td>NaN</td>\n",
       "      <td>16.0</td>\n",
       "      <td>0</td>\n",
       "      <td>NaN</td>\n",
       "      <td>1</td>\n",
       "      <td>NaN</td>\n",
       "      <td>NaN</td>\n",
       "      <td>NaN</td>\n",
       "      <td>NaN</td>\n",
       "      <td>NaN</td>\n",
       "    </tr>\n",
       "    <tr>\n",
       "      <th>6980577</th>\n",
       "      <td>2008</td>\n",
       "      <td>12</td>\n",
       "      <td>19</td>\n",
       "      <td>5</td>\n",
       "      <td>1832.0</td>\n",
       "      <td>1730</td>\n",
       "      <td>NaN</td>\n",
       "      <td>2050</td>\n",
       "      <td>CO</td>\n",
       "      <td>787</td>\n",
       "      <td>...</td>\n",
       "      <td>NaN</td>\n",
       "      <td>97.0</td>\n",
       "      <td>0</td>\n",
       "      <td>NaN</td>\n",
       "      <td>1</td>\n",
       "      <td>NaN</td>\n",
       "      <td>NaN</td>\n",
       "      <td>NaN</td>\n",
       "      <td>NaN</td>\n",
       "      <td>NaN</td>\n",
       "    </tr>\n",
       "    <tr>\n",
       "      <th>6980617</th>\n",
       "      <td>2008</td>\n",
       "      <td>12</td>\n",
       "      <td>19</td>\n",
       "      <td>5</td>\n",
       "      <td>1525.0</td>\n",
       "      <td>1525</td>\n",
       "      <td>NaN</td>\n",
       "      <td>1712</td>\n",
       "      <td>CO</td>\n",
       "      <td>1030</td>\n",
       "      <td>...</td>\n",
       "      <td>NaN</td>\n",
       "      <td>11.0</td>\n",
       "      <td>0</td>\n",
       "      <td>NaN</td>\n",
       "      <td>1</td>\n",
       "      <td>NaN</td>\n",
       "      <td>NaN</td>\n",
       "      <td>NaN</td>\n",
       "      <td>NaN</td>\n",
       "      <td>NaN</td>\n",
       "    </tr>\n",
       "    <tr>\n",
       "      <th>6982054</th>\n",
       "      <td>2008</td>\n",
       "      <td>12</td>\n",
       "      <td>17</td>\n",
       "      <td>3</td>\n",
       "      <td>1317.0</td>\n",
       "      <td>1245</td>\n",
       "      <td>NaN</td>\n",
       "      <td>1418</td>\n",
       "      <td>CO</td>\n",
       "      <td>581</td>\n",
       "      <td>...</td>\n",
       "      <td>NaN</td>\n",
       "      <td>23.0</td>\n",
       "      <td>0</td>\n",
       "      <td>NaN</td>\n",
       "      <td>1</td>\n",
       "      <td>NaN</td>\n",
       "      <td>NaN</td>\n",
       "      <td>NaN</td>\n",
       "      <td>NaN</td>\n",
       "      <td>NaN</td>\n",
       "    </tr>\n",
       "    <tr>\n",
       "      <th>7007389</th>\n",
       "      <td>2008</td>\n",
       "      <td>12</td>\n",
       "      <td>11</td>\n",
       "      <td>4</td>\n",
       "      <td>717.0</td>\n",
       "      <td>725</td>\n",
       "      <td>NaN</td>\n",
       "      <td>945</td>\n",
       "      <td>DL</td>\n",
       "      <td>1491</td>\n",
       "      <td>...</td>\n",
       "      <td>NaN</td>\n",
       "      <td>25.0</td>\n",
       "      <td>0</td>\n",
       "      <td>NaN</td>\n",
       "      <td>1</td>\n",
       "      <td>NaN</td>\n",
       "      <td>NaN</td>\n",
       "      <td>NaN</td>\n",
       "      <td>NaN</td>\n",
       "      <td>NaN</td>\n",
       "    </tr>\n",
       "  </tbody>\n",
       "</table>\n",
       "<p>14215 rows × 29 columns</p>\n",
       "</div>"
      ],
      "text/plain": [
       "         Year  Month  DayofMonth  DayOfWeek  DepTime  CRSDepTime  ArrTime  \\\n",
       "1763     2008      1           3          4    922.0         915      NaN   \n",
       "1911     2008      1           3          4   2325.0        1900      NaN   \n",
       "2651     2008      1           4          5   1949.0        1905      NaN   \n",
       "2726     2008      1           4          5    737.0         705      NaN   \n",
       "3383     2008      1           4          5    931.0         930      NaN   \n",
       "...       ...    ...         ...        ...      ...         ...      ...   \n",
       "6978884  2008     12          21          7    728.0         715      NaN   \n",
       "6980577  2008     12          19          5   1832.0        1730      NaN   \n",
       "6980617  2008     12          19          5   1525.0        1525      NaN   \n",
       "6982054  2008     12          17          3   1317.0        1245      NaN   \n",
       "7007389  2008     12          11          4    717.0         725      NaN   \n",
       "\n",
       "         CRSArrTime UniqueCarrier  FlightNum  ... TaxiIn  TaxiOut  Cancelled  \\\n",
       "1763           1050            WN       1069  ...    NaN     12.0          0   \n",
       "1911           2030            WN       2092  ...    NaN     11.0          0   \n",
       "2651           1910            WN       1403  ...    NaN     11.0          0   \n",
       "2726            825            WN        178  ...    NaN     13.0          0   \n",
       "3383           1145            WN       2011  ...    NaN     10.0          0   \n",
       "...             ...           ...        ...  ...    ...      ...        ...   \n",
       "6978884        1150            CO        282  ...    NaN     16.0          0   \n",
       "6980577        2050            CO        787  ...    NaN     97.0          0   \n",
       "6980617        1712            CO       1030  ...    NaN     11.0          0   \n",
       "6982054        1418            CO        581  ...    NaN     23.0          0   \n",
       "7007389         945            DL       1491  ...    NaN     25.0          0   \n",
       "\n",
       "         CancellationCode  Diverted  CarrierDelay WeatherDelay NASDelay  \\\n",
       "1763                  NaN         1           NaN          NaN      NaN   \n",
       "1911                  NaN         1           NaN          NaN      NaN   \n",
       "2651                  NaN         1           NaN          NaN      NaN   \n",
       "2726                  NaN         1           NaN          NaN      NaN   \n",
       "3383                  NaN         1           NaN          NaN      NaN   \n",
       "...                   ...       ...           ...          ...      ...   \n",
       "6978884               NaN         1           NaN          NaN      NaN   \n",
       "6980577               NaN         1           NaN          NaN      NaN   \n",
       "6980617               NaN         1           NaN          NaN      NaN   \n",
       "6982054               NaN         1           NaN          NaN      NaN   \n",
       "7007389               NaN         1           NaN          NaN      NaN   \n",
       "\n",
       "         SecurityDelay  LateAircraftDelay  \n",
       "1763               NaN                NaN  \n",
       "1911               NaN                NaN  \n",
       "2651               NaN                NaN  \n",
       "2726               NaN                NaN  \n",
       "3383               NaN                NaN  \n",
       "...                ...                ...  \n",
       "6978884            NaN                NaN  \n",
       "6980577            NaN                NaN  \n",
       "6980617            NaN                NaN  \n",
       "6982054            NaN                NaN  \n",
       "7007389            NaN                NaN  \n",
       "\n",
       "[14215 rows x 29 columns]"
      ]
     },
     "execution_count": 11,
     "metadata": {},
     "output_type": "execute_result"
    }
   ],
   "source": [
    "# Flights that were cancelled (137434) and diverted (14215) add up to 151,649 \n",
    "# which is the number of records that do not have ArrTime and TaxiIn recorded. \n",
    "# Will not be deleting any records from the dataset with no values due to this finding. Looks like the data is clean.\n",
    "\n",
    "df_2008[(df_2008.Cancelled == 0)  & (df_2008.ArrTime.isna())]"
   ]
  },
  {
   "cell_type": "code",
   "execution_count": 12,
   "metadata": {
    "slideshow": {
     "slide_type": "skip"
    }
   },
   "outputs": [
    {
     "data": {
      "text/html": [
       "<div>\n",
       "<style scoped>\n",
       "    .dataframe tbody tr th:only-of-type {\n",
       "        vertical-align: middle;\n",
       "    }\n",
       "\n",
       "    .dataframe tbody tr th {\n",
       "        vertical-align: top;\n",
       "    }\n",
       "\n",
       "    .dataframe thead th {\n",
       "        text-align: right;\n",
       "    }\n",
       "</style>\n",
       "<table border=\"1\" class=\"dataframe\">\n",
       "  <thead>\n",
       "    <tr style=\"text-align: right;\">\n",
       "      <th></th>\n",
       "      <th>Year</th>\n",
       "      <th>Month</th>\n",
       "      <th>DayofMonth</th>\n",
       "      <th>DayOfWeek</th>\n",
       "      <th>DepTime</th>\n",
       "      <th>CRSDepTime</th>\n",
       "      <th>ArrTime</th>\n",
       "      <th>CRSArrTime</th>\n",
       "      <th>UniqueCarrier</th>\n",
       "      <th>FlightNum</th>\n",
       "      <th>...</th>\n",
       "      <th>TaxiIn</th>\n",
       "      <th>TaxiOut</th>\n",
       "      <th>Cancelled</th>\n",
       "      <th>CancellationCode</th>\n",
       "      <th>Diverted</th>\n",
       "      <th>CarrierDelay</th>\n",
       "      <th>WeatherDelay</th>\n",
       "      <th>NASDelay</th>\n",
       "      <th>SecurityDelay</th>\n",
       "      <th>LateAircraftDelay</th>\n",
       "    </tr>\n",
       "  </thead>\n",
       "  <tbody>\n",
       "    <tr>\n",
       "      <th>0</th>\n",
       "      <td>2008</td>\n",
       "      <td>1</td>\n",
       "      <td>3</td>\n",
       "      <td>4</td>\n",
       "      <td>2003.0</td>\n",
       "      <td>1955</td>\n",
       "      <td>2211.0</td>\n",
       "      <td>2225</td>\n",
       "      <td>WN</td>\n",
       "      <td>335</td>\n",
       "      <td>...</td>\n",
       "      <td>4.0</td>\n",
       "      <td>8.0</td>\n",
       "      <td>0</td>\n",
       "      <td>NaN</td>\n",
       "      <td>0</td>\n",
       "      <td>NaN</td>\n",
       "      <td>NaN</td>\n",
       "      <td>NaN</td>\n",
       "      <td>NaN</td>\n",
       "      <td>NaN</td>\n",
       "    </tr>\n",
       "    <tr>\n",
       "      <th>1</th>\n",
       "      <td>2008</td>\n",
       "      <td>1</td>\n",
       "      <td>3</td>\n",
       "      <td>4</td>\n",
       "      <td>754.0</td>\n",
       "      <td>735</td>\n",
       "      <td>1002.0</td>\n",
       "      <td>1000</td>\n",
       "      <td>WN</td>\n",
       "      <td>3231</td>\n",
       "      <td>...</td>\n",
       "      <td>5.0</td>\n",
       "      <td>10.0</td>\n",
       "      <td>0</td>\n",
       "      <td>NaN</td>\n",
       "      <td>0</td>\n",
       "      <td>NaN</td>\n",
       "      <td>NaN</td>\n",
       "      <td>NaN</td>\n",
       "      <td>NaN</td>\n",
       "      <td>NaN</td>\n",
       "    </tr>\n",
       "    <tr>\n",
       "      <th>2</th>\n",
       "      <td>2008</td>\n",
       "      <td>1</td>\n",
       "      <td>3</td>\n",
       "      <td>4</td>\n",
       "      <td>628.0</td>\n",
       "      <td>620</td>\n",
       "      <td>804.0</td>\n",
       "      <td>750</td>\n",
       "      <td>WN</td>\n",
       "      <td>448</td>\n",
       "      <td>...</td>\n",
       "      <td>3.0</td>\n",
       "      <td>17.0</td>\n",
       "      <td>0</td>\n",
       "      <td>NaN</td>\n",
       "      <td>0</td>\n",
       "      <td>NaN</td>\n",
       "      <td>NaN</td>\n",
       "      <td>NaN</td>\n",
       "      <td>NaN</td>\n",
       "      <td>NaN</td>\n",
       "    </tr>\n",
       "    <tr>\n",
       "      <th>3</th>\n",
       "      <td>2008</td>\n",
       "      <td>1</td>\n",
       "      <td>3</td>\n",
       "      <td>4</td>\n",
       "      <td>926.0</td>\n",
       "      <td>930</td>\n",
       "      <td>1054.0</td>\n",
       "      <td>1100</td>\n",
       "      <td>WN</td>\n",
       "      <td>1746</td>\n",
       "      <td>...</td>\n",
       "      <td>3.0</td>\n",
       "      <td>7.0</td>\n",
       "      <td>0</td>\n",
       "      <td>NaN</td>\n",
       "      <td>0</td>\n",
       "      <td>NaN</td>\n",
       "      <td>NaN</td>\n",
       "      <td>NaN</td>\n",
       "      <td>NaN</td>\n",
       "      <td>NaN</td>\n",
       "    </tr>\n",
       "    <tr>\n",
       "      <th>5</th>\n",
       "      <td>2008</td>\n",
       "      <td>1</td>\n",
       "      <td>3</td>\n",
       "      <td>4</td>\n",
       "      <td>1940.0</td>\n",
       "      <td>1915</td>\n",
       "      <td>2121.0</td>\n",
       "      <td>2110</td>\n",
       "      <td>WN</td>\n",
       "      <td>378</td>\n",
       "      <td>...</td>\n",
       "      <td>4.0</td>\n",
       "      <td>10.0</td>\n",
       "      <td>0</td>\n",
       "      <td>NaN</td>\n",
       "      <td>0</td>\n",
       "      <td>NaN</td>\n",
       "      <td>NaN</td>\n",
       "      <td>NaN</td>\n",
       "      <td>NaN</td>\n",
       "      <td>NaN</td>\n",
       "    </tr>\n",
       "    <tr>\n",
       "      <th>...</th>\n",
       "      <td>...</td>\n",
       "      <td>...</td>\n",
       "      <td>...</td>\n",
       "      <td>...</td>\n",
       "      <td>...</td>\n",
       "      <td>...</td>\n",
       "      <td>...</td>\n",
       "      <td>...</td>\n",
       "      <td>...</td>\n",
       "      <td>...</td>\n",
       "      <td>...</td>\n",
       "      <td>...</td>\n",
       "      <td>...</td>\n",
       "      <td>...</td>\n",
       "      <td>...</td>\n",
       "      <td>...</td>\n",
       "      <td>...</td>\n",
       "      <td>...</td>\n",
       "      <td>...</td>\n",
       "      <td>...</td>\n",
       "      <td>...</td>\n",
       "    </tr>\n",
       "    <tr>\n",
       "      <th>7009723</th>\n",
       "      <td>2008</td>\n",
       "      <td>12</td>\n",
       "      <td>13</td>\n",
       "      <td>6</td>\n",
       "      <td>1002.0</td>\n",
       "      <td>959</td>\n",
       "      <td>1204.0</td>\n",
       "      <td>1150</td>\n",
       "      <td>DL</td>\n",
       "      <td>1636</td>\n",
       "      <td>...</td>\n",
       "      <td>6.0</td>\n",
       "      <td>45.0</td>\n",
       "      <td>0</td>\n",
       "      <td>NaN</td>\n",
       "      <td>0</td>\n",
       "      <td>NaN</td>\n",
       "      <td>NaN</td>\n",
       "      <td>NaN</td>\n",
       "      <td>NaN</td>\n",
       "      <td>NaN</td>\n",
       "    </tr>\n",
       "    <tr>\n",
       "      <th>7009724</th>\n",
       "      <td>2008</td>\n",
       "      <td>12</td>\n",
       "      <td>13</td>\n",
       "      <td>6</td>\n",
       "      <td>834.0</td>\n",
       "      <td>835</td>\n",
       "      <td>1021.0</td>\n",
       "      <td>1023</td>\n",
       "      <td>DL</td>\n",
       "      <td>1637</td>\n",
       "      <td>...</td>\n",
       "      <td>5.0</td>\n",
       "      <td>23.0</td>\n",
       "      <td>0</td>\n",
       "      <td>NaN</td>\n",
       "      <td>0</td>\n",
       "      <td>NaN</td>\n",
       "      <td>NaN</td>\n",
       "      <td>NaN</td>\n",
       "      <td>NaN</td>\n",
       "      <td>NaN</td>\n",
       "    </tr>\n",
       "    <tr>\n",
       "      <th>7009725</th>\n",
       "      <td>2008</td>\n",
       "      <td>12</td>\n",
       "      <td>13</td>\n",
       "      <td>6</td>\n",
       "      <td>655.0</td>\n",
       "      <td>700</td>\n",
       "      <td>856.0</td>\n",
       "      <td>856</td>\n",
       "      <td>DL</td>\n",
       "      <td>1638</td>\n",
       "      <td>...</td>\n",
       "      <td>24.0</td>\n",
       "      <td>12.0</td>\n",
       "      <td>0</td>\n",
       "      <td>NaN</td>\n",
       "      <td>0</td>\n",
       "      <td>NaN</td>\n",
       "      <td>NaN</td>\n",
       "      <td>NaN</td>\n",
       "      <td>NaN</td>\n",
       "      <td>NaN</td>\n",
       "    </tr>\n",
       "    <tr>\n",
       "      <th>7009726</th>\n",
       "      <td>2008</td>\n",
       "      <td>12</td>\n",
       "      <td>13</td>\n",
       "      <td>6</td>\n",
       "      <td>1251.0</td>\n",
       "      <td>1240</td>\n",
       "      <td>1446.0</td>\n",
       "      <td>1437</td>\n",
       "      <td>DL</td>\n",
       "      <td>1639</td>\n",
       "      <td>...</td>\n",
       "      <td>13.0</td>\n",
       "      <td>13.0</td>\n",
       "      <td>0</td>\n",
       "      <td>NaN</td>\n",
       "      <td>0</td>\n",
       "      <td>NaN</td>\n",
       "      <td>NaN</td>\n",
       "      <td>NaN</td>\n",
       "      <td>NaN</td>\n",
       "      <td>NaN</td>\n",
       "    </tr>\n",
       "    <tr>\n",
       "      <th>7009727</th>\n",
       "      <td>2008</td>\n",
       "      <td>12</td>\n",
       "      <td>13</td>\n",
       "      <td>6</td>\n",
       "      <td>1110.0</td>\n",
       "      <td>1103</td>\n",
       "      <td>1413.0</td>\n",
       "      <td>1418</td>\n",
       "      <td>DL</td>\n",
       "      <td>1641</td>\n",
       "      <td>...</td>\n",
       "      <td>8.0</td>\n",
       "      <td>11.0</td>\n",
       "      <td>0</td>\n",
       "      <td>NaN</td>\n",
       "      <td>0</td>\n",
       "      <td>NaN</td>\n",
       "      <td>NaN</td>\n",
       "      <td>NaN</td>\n",
       "      <td>NaN</td>\n",
       "      <td>NaN</td>\n",
       "    </tr>\n",
       "  </tbody>\n",
       "</table>\n",
       "<p>5484993 rows × 29 columns</p>\n",
       "</div>"
      ],
      "text/plain": [
       "         Year  Month  DayofMonth  DayOfWeek  DepTime  CRSDepTime  ArrTime  \\\n",
       "0        2008      1           3          4   2003.0        1955   2211.0   \n",
       "1        2008      1           3          4    754.0         735   1002.0   \n",
       "2        2008      1           3          4    628.0         620    804.0   \n",
       "3        2008      1           3          4    926.0         930   1054.0   \n",
       "5        2008      1           3          4   1940.0        1915   2121.0   \n",
       "...       ...    ...         ...        ...      ...         ...      ...   \n",
       "7009723  2008     12          13          6   1002.0         959   1204.0   \n",
       "7009724  2008     12          13          6    834.0         835   1021.0   \n",
       "7009725  2008     12          13          6    655.0         700    856.0   \n",
       "7009726  2008     12          13          6   1251.0        1240   1446.0   \n",
       "7009727  2008     12          13          6   1110.0        1103   1413.0   \n",
       "\n",
       "         CRSArrTime UniqueCarrier  FlightNum  ... TaxiIn  TaxiOut  Cancelled  \\\n",
       "0              2225            WN        335  ...    4.0      8.0          0   \n",
       "1              1000            WN       3231  ...    5.0     10.0          0   \n",
       "2               750            WN        448  ...    3.0     17.0          0   \n",
       "3              1100            WN       1746  ...    3.0      7.0          0   \n",
       "5              2110            WN        378  ...    4.0     10.0          0   \n",
       "...             ...           ...        ...  ...    ...      ...        ...   \n",
       "7009723        1150            DL       1636  ...    6.0     45.0          0   \n",
       "7009724        1023            DL       1637  ...    5.0     23.0          0   \n",
       "7009725         856            DL       1638  ...   24.0     12.0          0   \n",
       "7009726        1437            DL       1639  ...   13.0     13.0          0   \n",
       "7009727        1418            DL       1641  ...    8.0     11.0          0   \n",
       "\n",
       "         CancellationCode  Diverted  CarrierDelay WeatherDelay NASDelay  \\\n",
       "0                     NaN         0           NaN          NaN      NaN   \n",
       "1                     NaN         0           NaN          NaN      NaN   \n",
       "2                     NaN         0           NaN          NaN      NaN   \n",
       "3                     NaN         0           NaN          NaN      NaN   \n",
       "5                     NaN         0           NaN          NaN      NaN   \n",
       "...                   ...       ...           ...          ...      ...   \n",
       "7009723               NaN         0           NaN          NaN      NaN   \n",
       "7009724               NaN         0           NaN          NaN      NaN   \n",
       "7009725               NaN         0           NaN          NaN      NaN   \n",
       "7009726               NaN         0           NaN          NaN      NaN   \n",
       "7009727               NaN         0           NaN          NaN      NaN   \n",
       "\n",
       "         SecurityDelay  LateAircraftDelay  \n",
       "0                  NaN                NaN  \n",
       "1                  NaN                NaN  \n",
       "2                  NaN                NaN  \n",
       "3                  NaN                NaN  \n",
       "5                  NaN                NaN  \n",
       "...                ...                ...  \n",
       "7009723            NaN                NaN  \n",
       "7009724            NaN                NaN  \n",
       "7009725            NaN                NaN  \n",
       "7009726            NaN                NaN  \n",
       "7009727            NaN                NaN  \n",
       "\n",
       "[5484993 rows x 29 columns]"
      ]
     },
     "execution_count": 12,
     "metadata": {},
     "output_type": "execute_result"
    }
   ],
   "source": [
    "# Checking the number of records that have no value for columns - CarrierDelay, WeatherDelay\n",
    "# NASDelay, SecurityDelay and LateAircraftDelay in df_2008_clean dataframe\n",
    "# The number of such records is 5484993. ALl NaN can be filled with zero as part of cleaning exercise\n",
    "df_2008[(df_2008.CarrierDelay.isna())  & (df_2008.WeatherDelay.isna()) & (df_2008.NASDelay.isna()) &\n",
    "        (df_2008.SecurityDelay.isna())  & (df_2008.LateAircraftDelay.isna())]"
   ]
  },
  {
   "cell_type": "code",
   "execution_count": 13,
   "metadata": {
    "slideshow": {
     "slide_type": "skip"
    }
   },
   "outputs": [
    {
     "data": {
      "text/plain": [
       "Year                 7453215\n",
       "Month                7453215\n",
       "DayofMonth           7453215\n",
       "DayOfWeek            7453215\n",
       "DepTime              7292467\n",
       "CRSDepTime           7453215\n",
       "ArrTime              7275288\n",
       "CRSArrTime           7453215\n",
       "UniqueCarrier        7453215\n",
       "FlightNum            7453215\n",
       "TailNum              7453193\n",
       "ActualElapsedTime    7275288\n",
       "CRSElapsedTime       7452221\n",
       "AirTime              7275288\n",
       "ArrDelay             7275288\n",
       "DepDelay             7292467\n",
       "Origin               7453215\n",
       "Dest                 7453215\n",
       "Distance             7453215\n",
       "TaxiIn               7453215\n",
       "TaxiOut              7453215\n",
       "Cancelled            7453215\n",
       "CancellationCode      160749\n",
       "Diverted             7453215\n",
       "CarrierDelay         7453215\n",
       "WeatherDelay         7453215\n",
       "NASDelay             7453215\n",
       "SecurityDelay        7453215\n",
       "LateAircraftDelay    7453215\n",
       "dtype: int64"
      ]
     },
     "execution_count": 13,
     "metadata": {},
     "output_type": "execute_result"
    }
   ],
   "source": [
    "# Check number of non null values in each column of df_2007\n",
    "df_2007.count()"
   ]
  },
  {
   "cell_type": "markdown",
   "metadata": {
    "slideshow": {
     "slide_type": "skip"
    }
   },
   "source": [
    ">The total number of records in the dataframe df_2007 is 7453215. \n",
    ">\n",
    ">The following columns have missing values:\n",
    ">    1. DepTime - 7292467             (160,748 missing values) \n",
    ">    2. ArrTime - 7275288             (177,927 missing values)\n",
    ">    3. TailNum - 7453193             (     22 missing values)\n",
    ">    4. ActualElapsedTime - 7275288   (177,927 missing values)\n",
    ">    5. CRSElapsedTime - 7452221      (    994 missing values)\n",
    ">    6. AirTime - 7275288             (177,927 missing values)\n",
    ">    7. ArrDelay - 7275288            (177,927 missing values)\n",
    ">    8. DepDelay - 7292467            (160,748 missing values)\n",
    ">    9. CancellationCode - 160749   (7,292,466 missing values)\n",
    "    "
   ]
  },
  {
   "cell_type": "code",
   "execution_count": 14,
   "metadata": {
    "slideshow": {
     "slide_type": "skip"
    }
   },
   "outputs": [
    {
     "data": {
      "text/plain": [
       "A    66779\n",
       "B    61936\n",
       "C    31995\n",
       "D       39\n",
       "Name: CancellationCode, dtype: int64"
      ]
     },
     "execution_count": 14,
     "metadata": {},
     "output_type": "execute_result"
    }
   ],
   "source": [
    "#cancellation count by code for df_2007 - this adds up to 160749 as shown above\n",
    "df_2007.CancellationCode.value_counts()"
   ]
  },
  {
   "cell_type": "code",
   "execution_count": 15,
   "metadata": {
    "slideshow": {
     "slide_type": "skip"
    }
   },
   "outputs": [
    {
     "data": {
      "text/plain": [
       "Year                 7141922\n",
       "Month                7141922\n",
       "DayofMonth           7141922\n",
       "DayOfWeek            7141922\n",
       "DepTime              7019988\n",
       "CRSDepTime           7141922\n",
       "ArrTime              7003802\n",
       "CRSArrTime           7141922\n",
       "UniqueCarrier        7141922\n",
       "FlightNum            7141922\n",
       "TailNum              7141922\n",
       "ActualElapsedTime    7003802\n",
       "CRSElapsedTime       7141918\n",
       "AirTime              7003802\n",
       "ArrDelay             7003802\n",
       "DepDelay             7019988\n",
       "Origin               7141922\n",
       "Dest                 7141922\n",
       "Distance             7141922\n",
       "TaxiIn               7141922\n",
       "TaxiOut              7141922\n",
       "Cancelled            7141922\n",
       "CancellationCode      121934\n",
       "Diverted             7141922\n",
       "CarrierDelay         7141922\n",
       "WeatherDelay         7141922\n",
       "NASDelay             7141922\n",
       "SecurityDelay        7141922\n",
       "LateAircraftDelay    7141922\n",
       "dtype: int64"
      ]
     },
     "execution_count": 15,
     "metadata": {},
     "output_type": "execute_result"
    }
   ],
   "source": [
    "# Check number of non null values in each column of df_2006\n",
    "df_2006.count()"
   ]
  },
  {
   "cell_type": "markdown",
   "metadata": {
    "slideshow": {
     "slide_type": "skip"
    }
   },
   "source": [
    ">The total number of records in the dataframe df_2006 is 7141922.\n",
    ">\n",
    ">The following columns have missing values:\n",
    ">1. DepTime - 7019988             (121,934 missing values) \n",
    ">2. ArrTime - 7003802             (138,120 missing values)\n",
    ">3. ActualElapsedTime - 7003802   (138,120 missing values)\n",
    ">4. CRSElapsedTime - 7141918      (      4 missing values)\n",
    ">5. AirTime - 7003802             (138,120 missing values)\n",
    ">6. ArrDelay - 7003802            (138,120 missing values)\n",
    ">7. DepDelay - 7019988            (121,934 missing values)\n",
    ">8. CancellationCode - 121934   (7,019,988 missing values)"
   ]
  },
  {
   "cell_type": "code",
   "execution_count": 16,
   "metadata": {
    "slideshow": {
     "slide_type": "skip"
    }
   },
   "outputs": [
    {
     "data": {
      "text/plain": [
       "A    55655\n",
       "B    37913\n",
       "C    28209\n",
       "D      157\n",
       "Name: CancellationCode, dtype: int64"
      ]
     },
     "execution_count": 16,
     "metadata": {},
     "output_type": "execute_result"
    }
   ],
   "source": [
    "#cancellation count by code for df_2006 - this adds up to 121934 as shown above\n",
    "df_2006.CancellationCode.value_counts()"
   ]
  },
  {
   "cell_type": "markdown",
   "metadata": {
    "slideshow": {
     "slide_type": "skip"
    }
   },
   "source": [
    "#### Clean Data"
   ]
  },
  {
   "cell_type": "code",
   "execution_count": 17,
   "metadata": {
    "slideshow": {
     "slide_type": "skip"
    }
   },
   "outputs": [],
   "source": [
    "# Make copies of each dataset\n",
    "df_2008_clean = df_2008.copy()\n",
    "df_2007_clean = df_2007.copy()\n",
    "df_2006_clean = df_2006.copy()"
   ]
  },
  {
   "cell_type": "code",
   "execution_count": 18,
   "metadata": {
    "slideshow": {
     "slide_type": "skip"
    }
   },
   "outputs": [],
   "source": [
    "# Filling zero for all NaN values for columns CarrierDelay, WeatherDelay, NASDelay\n",
    "# SecurityDelay and LateAircraftDelay in dataset df_2008_clean. \n",
    "# This is done to make it uniform across the other two datasets. We assume this was left\n",
    "# blank instead of entering 0 for 2008 data. \n",
    "df_2008_clean['CarrierDelay'] = pd.to_numeric(df_2008_clean['CarrierDelay']).fillna(0)\n",
    "df_2008_clean['WeatherDelay'] = pd.to_numeric(df_2008_clean['WeatherDelay']).fillna(0)\n",
    "df_2008_clean['NASDelay'] = pd.to_numeric(df_2008_clean['NASDelay']).fillna(0)\n",
    "df_2008_clean['SecurityDelay'] = pd.to_numeric(df_2008_clean['SecurityDelay']).fillna(0)\n",
    "df_2008_clean['LateAircraftDelay'] = pd.to_numeric(df_2008_clean['LateAircraftDelay']).fillna(0)"
   ]
  },
  {
   "cell_type": "code",
   "execution_count": 19,
   "metadata": {
    "slideshow": {
     "slide_type": "skip"
    }
   },
   "outputs": [
    {
     "data": {
      "text/plain": [
       "Year                 7009728\n",
       "Month                7009728\n",
       "DayofMonth           7009728\n",
       "DayOfWeek            7009728\n",
       "DepTime              6873482\n",
       "CRSDepTime           7009728\n",
       "ArrTime              6858079\n",
       "CRSArrTime           7009728\n",
       "UniqueCarrier        7009728\n",
       "FlightNum            7009728\n",
       "TailNum              6926363\n",
       "ActualElapsedTime    6855029\n",
       "CRSElapsedTime       7008884\n",
       "AirTime              6855029\n",
       "ArrDelay             6855029\n",
       "DepDelay             6873482\n",
       "Origin               7009728\n",
       "Dest                 7009728\n",
       "Distance             7009728\n",
       "TaxiIn               6858079\n",
       "TaxiOut              6872670\n",
       "Cancelled            7009728\n",
       "CancellationCode      137434\n",
       "Diverted             7009728\n",
       "CarrierDelay         7009728\n",
       "WeatherDelay         7009728\n",
       "NASDelay             7009728\n",
       "SecurityDelay        7009728\n",
       "LateAircraftDelay    7009728\n",
       "dtype: int64"
      ]
     },
     "execution_count": 19,
     "metadata": {},
     "output_type": "execute_result"
    }
   ],
   "source": [
    "# Check count for the columns CarrierDelay, WeatherDelay, NASDelay\n",
    "# SecurityDelay and LateAircraftDelay in dataset df_2008_clean\n",
    "df_2008_clean.count()"
   ]
  },
  {
   "cell_type": "code",
   "execution_count": 20,
   "metadata": {
    "slideshow": {
     "slide_type": "skip"
    }
   },
   "outputs": [
    {
     "data": {
      "text/plain": [
       "(21604865, 29)"
      ]
     },
     "execution_count": 20,
     "metadata": {},
     "output_type": "execute_result"
    }
   ],
   "source": [
    "# Append all three dataframes and save into master df 'df_fltdata'\n",
    "# This also implicitly converts TaxiIn, TaxiOut, CarrierDelay, WeatherDelay, \n",
    "# NASDelay, SecurityDelay and LateAircraftDelay in df_2007_clean and df_2006_clean \n",
    "# from int to float before appending into df_fltdata. \n",
    "\n",
    "df_fltdata=df_2006_clean.append([df_2007_clean,df_2008_clean])\n",
    "\n",
    "# Display number of rows and columns of appended data\n",
    "df_fltdata.shape"
   ]
  },
  {
   "cell_type": "code",
   "execution_count": 21,
   "metadata": {
    "slideshow": {
     "slide_type": "skip"
    }
   },
   "outputs": [
    {
     "data": {
      "text/html": [
       "<div>\n",
       "<style scoped>\n",
       "    .dataframe tbody tr th:only-of-type {\n",
       "        vertical-align: middle;\n",
       "    }\n",
       "\n",
       "    .dataframe tbody tr th {\n",
       "        vertical-align: top;\n",
       "    }\n",
       "\n",
       "    .dataframe thead th {\n",
       "        text-align: right;\n",
       "    }\n",
       "</style>\n",
       "<table border=\"1\" class=\"dataframe\">\n",
       "  <thead>\n",
       "    <tr style=\"text-align: right;\">\n",
       "      <th></th>\n",
       "      <th>Year</th>\n",
       "      <th>Month</th>\n",
       "      <th>DayofMonth</th>\n",
       "      <th>DayOfWeek</th>\n",
       "      <th>DepTime</th>\n",
       "      <th>CRSDepTime</th>\n",
       "      <th>ArrTime</th>\n",
       "      <th>CRSArrTime</th>\n",
       "      <th>UniqueCarrier</th>\n",
       "      <th>FlightNum</th>\n",
       "      <th>...</th>\n",
       "      <th>TaxiIn</th>\n",
       "      <th>TaxiOut</th>\n",
       "      <th>Cancelled</th>\n",
       "      <th>CancellationCode</th>\n",
       "      <th>Diverted</th>\n",
       "      <th>CarrierDelay</th>\n",
       "      <th>WeatherDelay</th>\n",
       "      <th>NASDelay</th>\n",
       "      <th>SecurityDelay</th>\n",
       "      <th>LateAircraftDelay</th>\n",
       "    </tr>\n",
       "  </thead>\n",
       "  <tbody>\n",
       "    <tr>\n",
       "      <th>2239334</th>\n",
       "      <td>2008</td>\n",
       "      <td>4</td>\n",
       "      <td>3</td>\n",
       "      <td>4</td>\n",
       "      <td>610.0</td>\n",
       "      <td>610</td>\n",
       "      <td>825.0</td>\n",
       "      <td>829</td>\n",
       "      <td>OH</td>\n",
       "      <td>5599</td>\n",
       "      <td>...</td>\n",
       "      <td>15.0</td>\n",
       "      <td>14.0</td>\n",
       "      <td>0</td>\n",
       "      <td>NaN</td>\n",
       "      <td>0</td>\n",
       "      <td>0.0</td>\n",
       "      <td>0.0</td>\n",
       "      <td>0.0</td>\n",
       "      <td>0.0</td>\n",
       "      <td>0.0</td>\n",
       "    </tr>\n",
       "    <tr>\n",
       "      <th>1576426</th>\n",
       "      <td>2006</td>\n",
       "      <td>3</td>\n",
       "      <td>10</td>\n",
       "      <td>5</td>\n",
       "      <td>611.0</td>\n",
       "      <td>613</td>\n",
       "      <td>1002.0</td>\n",
       "      <td>1012</td>\n",
       "      <td>AA</td>\n",
       "      <td>568</td>\n",
       "      <td>...</td>\n",
       "      <td>4.0</td>\n",
       "      <td>14.0</td>\n",
       "      <td>0</td>\n",
       "      <td>NaN</td>\n",
       "      <td>0</td>\n",
       "      <td>0.0</td>\n",
       "      <td>0.0</td>\n",
       "      <td>0.0</td>\n",
       "      <td>0.0</td>\n",
       "      <td>0.0</td>\n",
       "    </tr>\n",
       "    <tr>\n",
       "      <th>4228270</th>\n",
       "      <td>2007</td>\n",
       "      <td>7</td>\n",
       "      <td>3</td>\n",
       "      <td>2</td>\n",
       "      <td>1034.0</td>\n",
       "      <td>1037</td>\n",
       "      <td>1409.0</td>\n",
       "      <td>1400</td>\n",
       "      <td>AA</td>\n",
       "      <td>840</td>\n",
       "      <td>...</td>\n",
       "      <td>23.0</td>\n",
       "      <td>9.0</td>\n",
       "      <td>0</td>\n",
       "      <td>NaN</td>\n",
       "      <td>0</td>\n",
       "      <td>0.0</td>\n",
       "      <td>0.0</td>\n",
       "      <td>0.0</td>\n",
       "      <td>0.0</td>\n",
       "      <td>0.0</td>\n",
       "    </tr>\n",
       "    <tr>\n",
       "      <th>3586003</th>\n",
       "      <td>2006</td>\n",
       "      <td>7</td>\n",
       "      <td>29</td>\n",
       "      <td>6</td>\n",
       "      <td>1318.0</td>\n",
       "      <td>1305</td>\n",
       "      <td>1549.0</td>\n",
       "      <td>1540</td>\n",
       "      <td>WN</td>\n",
       "      <td>617</td>\n",
       "      <td>...</td>\n",
       "      <td>3.0</td>\n",
       "      <td>7.0</td>\n",
       "      <td>0</td>\n",
       "      <td>NaN</td>\n",
       "      <td>0</td>\n",
       "      <td>0.0</td>\n",
       "      <td>0.0</td>\n",
       "      <td>0.0</td>\n",
       "      <td>0.0</td>\n",
       "      <td>0.0</td>\n",
       "    </tr>\n",
       "    <tr>\n",
       "      <th>3060706</th>\n",
       "      <td>2007</td>\n",
       "      <td>5</td>\n",
       "      <td>8</td>\n",
       "      <td>2</td>\n",
       "      <td>1806.0</td>\n",
       "      <td>1810</td>\n",
       "      <td>1909.0</td>\n",
       "      <td>1917</td>\n",
       "      <td>DL</td>\n",
       "      <td>1175</td>\n",
       "      <td>...</td>\n",
       "      <td>16.0</td>\n",
       "      <td>9.0</td>\n",
       "      <td>0</td>\n",
       "      <td>NaN</td>\n",
       "      <td>0</td>\n",
       "      <td>0.0</td>\n",
       "      <td>0.0</td>\n",
       "      <td>0.0</td>\n",
       "      <td>0.0</td>\n",
       "      <td>0.0</td>\n",
       "    </tr>\n",
       "    <tr>\n",
       "      <th>36591</th>\n",
       "      <td>2008</td>\n",
       "      <td>1</td>\n",
       "      <td>14</td>\n",
       "      <td>1</td>\n",
       "      <td>2055.0</td>\n",
       "      <td>2055</td>\n",
       "      <td>2310.0</td>\n",
       "      <td>2335</td>\n",
       "      <td>WN</td>\n",
       "      <td>877</td>\n",
       "      <td>...</td>\n",
       "      <td>4.0</td>\n",
       "      <td>7.0</td>\n",
       "      <td>0</td>\n",
       "      <td>NaN</td>\n",
       "      <td>0</td>\n",
       "      <td>0.0</td>\n",
       "      <td>0.0</td>\n",
       "      <td>0.0</td>\n",
       "      <td>0.0</td>\n",
       "      <td>0.0</td>\n",
       "    </tr>\n",
       "    <tr>\n",
       "      <th>4493884</th>\n",
       "      <td>2008</td>\n",
       "      <td>8</td>\n",
       "      <td>1</td>\n",
       "      <td>5</td>\n",
       "      <td>2025.0</td>\n",
       "      <td>1956</td>\n",
       "      <td>2146.0</td>\n",
       "      <td>2136</td>\n",
       "      <td>UA</td>\n",
       "      <td>1639</td>\n",
       "      <td>...</td>\n",
       "      <td>4.0</td>\n",
       "      <td>17.0</td>\n",
       "      <td>0</td>\n",
       "      <td>NaN</td>\n",
       "      <td>0</td>\n",
       "      <td>0.0</td>\n",
       "      <td>0.0</td>\n",
       "      <td>0.0</td>\n",
       "      <td>0.0</td>\n",
       "      <td>0.0</td>\n",
       "    </tr>\n",
       "    <tr>\n",
       "      <th>4334227</th>\n",
       "      <td>2008</td>\n",
       "      <td>8</td>\n",
       "      <td>31</td>\n",
       "      <td>7</td>\n",
       "      <td>1020.0</td>\n",
       "      <td>1030</td>\n",
       "      <td>1133.0</td>\n",
       "      <td>1139</td>\n",
       "      <td>XE</td>\n",
       "      <td>98</td>\n",
       "      <td>...</td>\n",
       "      <td>3.0</td>\n",
       "      <td>18.0</td>\n",
       "      <td>0</td>\n",
       "      <td>NaN</td>\n",
       "      <td>0</td>\n",
       "      <td>0.0</td>\n",
       "      <td>0.0</td>\n",
       "      <td>0.0</td>\n",
       "      <td>0.0</td>\n",
       "      <td>0.0</td>\n",
       "    </tr>\n",
       "    <tr>\n",
       "      <th>1149313</th>\n",
       "      <td>2008</td>\n",
       "      <td>2</td>\n",
       "      <td>24</td>\n",
       "      <td>7</td>\n",
       "      <td>1214.0</td>\n",
       "      <td>1215</td>\n",
       "      <td>1356.0</td>\n",
       "      <td>1353</td>\n",
       "      <td>CO</td>\n",
       "      <td>1605</td>\n",
       "      <td>...</td>\n",
       "      <td>6.0</td>\n",
       "      <td>13.0</td>\n",
       "      <td>0</td>\n",
       "      <td>NaN</td>\n",
       "      <td>0</td>\n",
       "      <td>0.0</td>\n",
       "      <td>0.0</td>\n",
       "      <td>0.0</td>\n",
       "      <td>0.0</td>\n",
       "      <td>0.0</td>\n",
       "    </tr>\n",
       "    <tr>\n",
       "      <th>5559355</th>\n",
       "      <td>2006</td>\n",
       "      <td>10</td>\n",
       "      <td>30</td>\n",
       "      <td>1</td>\n",
       "      <td>1604.0</td>\n",
       "      <td>1558</td>\n",
       "      <td>1738.0</td>\n",
       "      <td>1730</td>\n",
       "      <td>UA</td>\n",
       "      <td>267</td>\n",
       "      <td>...</td>\n",
       "      <td>5.0</td>\n",
       "      <td>8.0</td>\n",
       "      <td>0</td>\n",
       "      <td>NaN</td>\n",
       "      <td>0</td>\n",
       "      <td>0.0</td>\n",
       "      <td>0.0</td>\n",
       "      <td>0.0</td>\n",
       "      <td>0.0</td>\n",
       "      <td>0.0</td>\n",
       "    </tr>\n",
       "    <tr>\n",
       "      <th>7120544</th>\n",
       "      <td>2007</td>\n",
       "      <td>12</td>\n",
       "      <td>16</td>\n",
       "      <td>7</td>\n",
       "      <td>942.0</td>\n",
       "      <td>945</td>\n",
       "      <td>1401.0</td>\n",
       "      <td>1333</td>\n",
       "      <td>US</td>\n",
       "      <td>281</td>\n",
       "      <td>...</td>\n",
       "      <td>5.0</td>\n",
       "      <td>62.0</td>\n",
       "      <td>0</td>\n",
       "      <td>NaN</td>\n",
       "      <td>0</td>\n",
       "      <td>0.0</td>\n",
       "      <td>0.0</td>\n",
       "      <td>28.0</td>\n",
       "      <td>0.0</td>\n",
       "      <td>0.0</td>\n",
       "    </tr>\n",
       "    <tr>\n",
       "      <th>3165495</th>\n",
       "      <td>2006</td>\n",
       "      <td>6</td>\n",
       "      <td>3</td>\n",
       "      <td>6</td>\n",
       "      <td>1636.0</td>\n",
       "      <td>1639</td>\n",
       "      <td>2229.0</td>\n",
       "      <td>2226</td>\n",
       "      <td>UA</td>\n",
       "      <td>354</td>\n",
       "      <td>...</td>\n",
       "      <td>4.0</td>\n",
       "      <td>24.0</td>\n",
       "      <td>0</td>\n",
       "      <td>NaN</td>\n",
       "      <td>0</td>\n",
       "      <td>0.0</td>\n",
       "      <td>0.0</td>\n",
       "      <td>0.0</td>\n",
       "      <td>0.0</td>\n",
       "      <td>0.0</td>\n",
       "    </tr>\n",
       "    <tr>\n",
       "      <th>1747374</th>\n",
       "      <td>2008</td>\n",
       "      <td>3</td>\n",
       "      <td>3</td>\n",
       "      <td>1</td>\n",
       "      <td>1023.0</td>\n",
       "      <td>1023</td>\n",
       "      <td>1309.0</td>\n",
       "      <td>1323</td>\n",
       "      <td>CO</td>\n",
       "      <td>339</td>\n",
       "      <td>...</td>\n",
       "      <td>5.0</td>\n",
       "      <td>10.0</td>\n",
       "      <td>0</td>\n",
       "      <td>NaN</td>\n",
       "      <td>0</td>\n",
       "      <td>0.0</td>\n",
       "      <td>0.0</td>\n",
       "      <td>0.0</td>\n",
       "      <td>0.0</td>\n",
       "      <td>0.0</td>\n",
       "    </tr>\n",
       "    <tr>\n",
       "      <th>1982282</th>\n",
       "      <td>2008</td>\n",
       "      <td>4</td>\n",
       "      <td>30</td>\n",
       "      <td>3</td>\n",
       "      <td>1940.0</td>\n",
       "      <td>1939</td>\n",
       "      <td>2036.0</td>\n",
       "      <td>2035</td>\n",
       "      <td>OO</td>\n",
       "      <td>3793</td>\n",
       "      <td>...</td>\n",
       "      <td>7.0</td>\n",
       "      <td>15.0</td>\n",
       "      <td>0</td>\n",
       "      <td>NaN</td>\n",
       "      <td>0</td>\n",
       "      <td>0.0</td>\n",
       "      <td>0.0</td>\n",
       "      <td>0.0</td>\n",
       "      <td>0.0</td>\n",
       "      <td>0.0</td>\n",
       "    </tr>\n",
       "    <tr>\n",
       "      <th>2796182</th>\n",
       "      <td>2008</td>\n",
       "      <td>5</td>\n",
       "      <td>1</td>\n",
       "      <td>4</td>\n",
       "      <td>1641.0</td>\n",
       "      <td>1645</td>\n",
       "      <td>1727.0</td>\n",
       "      <td>1745</td>\n",
       "      <td>MQ</td>\n",
       "      <td>4198</td>\n",
       "      <td>...</td>\n",
       "      <td>5.0</td>\n",
       "      <td>8.0</td>\n",
       "      <td>0</td>\n",
       "      <td>NaN</td>\n",
       "      <td>0</td>\n",
       "      <td>0.0</td>\n",
       "      <td>0.0</td>\n",
       "      <td>0.0</td>\n",
       "      <td>0.0</td>\n",
       "      <td>0.0</td>\n",
       "    </tr>\n",
       "    <tr>\n",
       "      <th>3314061</th>\n",
       "      <td>2006</td>\n",
       "      <td>6</td>\n",
       "      <td>13</td>\n",
       "      <td>2</td>\n",
       "      <td>1714.0</td>\n",
       "      <td>1715</td>\n",
       "      <td>1905.0</td>\n",
       "      <td>1909</td>\n",
       "      <td>NW</td>\n",
       "      <td>303</td>\n",
       "      <td>...</td>\n",
       "      <td>6.0</td>\n",
       "      <td>16.0</td>\n",
       "      <td>0</td>\n",
       "      <td>NaN</td>\n",
       "      <td>0</td>\n",
       "      <td>0.0</td>\n",
       "      <td>0.0</td>\n",
       "      <td>0.0</td>\n",
       "      <td>0.0</td>\n",
       "      <td>0.0</td>\n",
       "    </tr>\n",
       "    <tr>\n",
       "      <th>5427202</th>\n",
       "      <td>2008</td>\n",
       "      <td>10</td>\n",
       "      <td>16</td>\n",
       "      <td>4</td>\n",
       "      <td>1107.0</td>\n",
       "      <td>1050</td>\n",
       "      <td>1146.0</td>\n",
       "      <td>1135</td>\n",
       "      <td>WN</td>\n",
       "      <td>562</td>\n",
       "      <td>...</td>\n",
       "      <td>4.0</td>\n",
       "      <td>10.0</td>\n",
       "      <td>0</td>\n",
       "      <td>NaN</td>\n",
       "      <td>0</td>\n",
       "      <td>0.0</td>\n",
       "      <td>0.0</td>\n",
       "      <td>0.0</td>\n",
       "      <td>0.0</td>\n",
       "      <td>0.0</td>\n",
       "    </tr>\n",
       "    <tr>\n",
       "      <th>4899405</th>\n",
       "      <td>2008</td>\n",
       "      <td>9</td>\n",
       "      <td>19</td>\n",
       "      <td>5</td>\n",
       "      <td>1230.0</td>\n",
       "      <td>1225</td>\n",
       "      <td>1351.0</td>\n",
       "      <td>1355</td>\n",
       "      <td>WN</td>\n",
       "      <td>79</td>\n",
       "      <td>...</td>\n",
       "      <td>3.0</td>\n",
       "      <td>7.0</td>\n",
       "      <td>0</td>\n",
       "      <td>NaN</td>\n",
       "      <td>0</td>\n",
       "      <td>0.0</td>\n",
       "      <td>0.0</td>\n",
       "      <td>0.0</td>\n",
       "      <td>0.0</td>\n",
       "      <td>0.0</td>\n",
       "    </tr>\n",
       "    <tr>\n",
       "      <th>1704059</th>\n",
       "      <td>2007</td>\n",
       "      <td>3</td>\n",
       "      <td>23</td>\n",
       "      <td>5</td>\n",
       "      <td>1217.0</td>\n",
       "      <td>1205</td>\n",
       "      <td>1548.0</td>\n",
       "      <td>1505</td>\n",
       "      <td>AA</td>\n",
       "      <td>724</td>\n",
       "      <td>...</td>\n",
       "      <td>12.0</td>\n",
       "      <td>19.0</td>\n",
       "      <td>0</td>\n",
       "      <td>NaN</td>\n",
       "      <td>0</td>\n",
       "      <td>0.0</td>\n",
       "      <td>0.0</td>\n",
       "      <td>43.0</td>\n",
       "      <td>0.0</td>\n",
       "      <td>0.0</td>\n",
       "    </tr>\n",
       "    <tr>\n",
       "      <th>2067822</th>\n",
       "      <td>2006</td>\n",
       "      <td>4</td>\n",
       "      <td>2</td>\n",
       "      <td>7</td>\n",
       "      <td>707.0</td>\n",
       "      <td>712</td>\n",
       "      <td>819.0</td>\n",
       "      <td>829</td>\n",
       "      <td>MQ</td>\n",
       "      <td>3011</td>\n",
       "      <td>...</td>\n",
       "      <td>3.0</td>\n",
       "      <td>15.0</td>\n",
       "      <td>0</td>\n",
       "      <td>NaN</td>\n",
       "      <td>0</td>\n",
       "      <td>0.0</td>\n",
       "      <td>0.0</td>\n",
       "      <td>0.0</td>\n",
       "      <td>0.0</td>\n",
       "      <td>0.0</td>\n",
       "    </tr>\n",
       "    <tr>\n",
       "      <th>6402069</th>\n",
       "      <td>2007</td>\n",
       "      <td>11</td>\n",
       "      <td>27</td>\n",
       "      <td>2</td>\n",
       "      <td>1640.0</td>\n",
       "      <td>1640</td>\n",
       "      <td>1816.0</td>\n",
       "      <td>1745</td>\n",
       "      <td>OH</td>\n",
       "      <td>5242</td>\n",
       "      <td>...</td>\n",
       "      <td>10.0</td>\n",
       "      <td>39.0</td>\n",
       "      <td>0</td>\n",
       "      <td>NaN</td>\n",
       "      <td>0</td>\n",
       "      <td>0.0</td>\n",
       "      <td>0.0</td>\n",
       "      <td>31.0</td>\n",
       "      <td>0.0</td>\n",
       "      <td>0.0</td>\n",
       "    </tr>\n",
       "    <tr>\n",
       "      <th>6172541</th>\n",
       "      <td>2007</td>\n",
       "      <td>10</td>\n",
       "      <td>7</td>\n",
       "      <td>7</td>\n",
       "      <td>1902.0</td>\n",
       "      <td>1905</td>\n",
       "      <td>2009.0</td>\n",
       "      <td>2015</td>\n",
       "      <td>B6</td>\n",
       "      <td>286</td>\n",
       "      <td>...</td>\n",
       "      <td>6.0</td>\n",
       "      <td>14.0</td>\n",
       "      <td>0</td>\n",
       "      <td>NaN</td>\n",
       "      <td>0</td>\n",
       "      <td>0.0</td>\n",
       "      <td>0.0</td>\n",
       "      <td>0.0</td>\n",
       "      <td>0.0</td>\n",
       "      <td>0.0</td>\n",
       "    </tr>\n",
       "    <tr>\n",
       "      <th>1737059</th>\n",
       "      <td>2008</td>\n",
       "      <td>3</td>\n",
       "      <td>23</td>\n",
       "      <td>7</td>\n",
       "      <td>1341.0</td>\n",
       "      <td>1340</td>\n",
       "      <td>1531.0</td>\n",
       "      <td>1521</td>\n",
       "      <td>B6</td>\n",
       "      <td>1255</td>\n",
       "      <td>...</td>\n",
       "      <td>3.0</td>\n",
       "      <td>34.0</td>\n",
       "      <td>0</td>\n",
       "      <td>NaN</td>\n",
       "      <td>0</td>\n",
       "      <td>0.0</td>\n",
       "      <td>0.0</td>\n",
       "      <td>0.0</td>\n",
       "      <td>0.0</td>\n",
       "      <td>0.0</td>\n",
       "    </tr>\n",
       "    <tr>\n",
       "      <th>7410255</th>\n",
       "      <td>2007</td>\n",
       "      <td>12</td>\n",
       "      <td>7</td>\n",
       "      <td>5</td>\n",
       "      <td>1426.0</td>\n",
       "      <td>1430</td>\n",
       "      <td>1610.0</td>\n",
       "      <td>1555</td>\n",
       "      <td>CO</td>\n",
       "      <td>1557</td>\n",
       "      <td>...</td>\n",
       "      <td>8.0</td>\n",
       "      <td>25.0</td>\n",
       "      <td>0</td>\n",
       "      <td>NaN</td>\n",
       "      <td>0</td>\n",
       "      <td>0.0</td>\n",
       "      <td>0.0</td>\n",
       "      <td>15.0</td>\n",
       "      <td>0.0</td>\n",
       "      <td>0.0</td>\n",
       "    </tr>\n",
       "    <tr>\n",
       "      <th>2706209</th>\n",
       "      <td>2006</td>\n",
       "      <td>5</td>\n",
       "      <td>4</td>\n",
       "      <td>4</td>\n",
       "      <td>850.0</td>\n",
       "      <td>855</td>\n",
       "      <td>952.0</td>\n",
       "      <td>1005</td>\n",
       "      <td>MQ</td>\n",
       "      <td>4798</td>\n",
       "      <td>...</td>\n",
       "      <td>7.0</td>\n",
       "      <td>10.0</td>\n",
       "      <td>0</td>\n",
       "      <td>NaN</td>\n",
       "      <td>0</td>\n",
       "      <td>0.0</td>\n",
       "      <td>0.0</td>\n",
       "      <td>0.0</td>\n",
       "      <td>0.0</td>\n",
       "      <td>0.0</td>\n",
       "    </tr>\n",
       "  </tbody>\n",
       "</table>\n",
       "<p>25 rows × 29 columns</p>\n",
       "</div>"
      ],
      "text/plain": [
       "         Year  Month  DayofMonth  DayOfWeek  DepTime  CRSDepTime  ArrTime  \\\n",
       "2239334  2008      4           3          4    610.0         610    825.0   \n",
       "1576426  2006      3          10          5    611.0         613   1002.0   \n",
       "4228270  2007      7           3          2   1034.0        1037   1409.0   \n",
       "3586003  2006      7          29          6   1318.0        1305   1549.0   \n",
       "3060706  2007      5           8          2   1806.0        1810   1909.0   \n",
       "36591    2008      1          14          1   2055.0        2055   2310.0   \n",
       "4493884  2008      8           1          5   2025.0        1956   2146.0   \n",
       "4334227  2008      8          31          7   1020.0        1030   1133.0   \n",
       "1149313  2008      2          24          7   1214.0        1215   1356.0   \n",
       "5559355  2006     10          30          1   1604.0        1558   1738.0   \n",
       "7120544  2007     12          16          7    942.0         945   1401.0   \n",
       "3165495  2006      6           3          6   1636.0        1639   2229.0   \n",
       "1747374  2008      3           3          1   1023.0        1023   1309.0   \n",
       "1982282  2008      4          30          3   1940.0        1939   2036.0   \n",
       "2796182  2008      5           1          4   1641.0        1645   1727.0   \n",
       "3314061  2006      6          13          2   1714.0        1715   1905.0   \n",
       "5427202  2008     10          16          4   1107.0        1050   1146.0   \n",
       "4899405  2008      9          19          5   1230.0        1225   1351.0   \n",
       "1704059  2007      3          23          5   1217.0        1205   1548.0   \n",
       "2067822  2006      4           2          7    707.0         712    819.0   \n",
       "6402069  2007     11          27          2   1640.0        1640   1816.0   \n",
       "6172541  2007     10           7          7   1902.0        1905   2009.0   \n",
       "1737059  2008      3          23          7   1341.0        1340   1531.0   \n",
       "7410255  2007     12           7          5   1426.0        1430   1610.0   \n",
       "2706209  2006      5           4          4    850.0         855    952.0   \n",
       "\n",
       "         CRSArrTime UniqueCarrier  FlightNum  ... TaxiIn  TaxiOut  Cancelled  \\\n",
       "2239334         829            OH       5599  ...   15.0     14.0          0   \n",
       "1576426        1012            AA        568  ...    4.0     14.0          0   \n",
       "4228270        1400            AA        840  ...   23.0      9.0          0   \n",
       "3586003        1540            WN        617  ...    3.0      7.0          0   \n",
       "3060706        1917            DL       1175  ...   16.0      9.0          0   \n",
       "36591          2335            WN        877  ...    4.0      7.0          0   \n",
       "4493884        2136            UA       1639  ...    4.0     17.0          0   \n",
       "4334227        1139            XE         98  ...    3.0     18.0          0   \n",
       "1149313        1353            CO       1605  ...    6.0     13.0          0   \n",
       "5559355        1730            UA        267  ...    5.0      8.0          0   \n",
       "7120544        1333            US        281  ...    5.0     62.0          0   \n",
       "3165495        2226            UA        354  ...    4.0     24.0          0   \n",
       "1747374        1323            CO        339  ...    5.0     10.0          0   \n",
       "1982282        2035            OO       3793  ...    7.0     15.0          0   \n",
       "2796182        1745            MQ       4198  ...    5.0      8.0          0   \n",
       "3314061        1909            NW        303  ...    6.0     16.0          0   \n",
       "5427202        1135            WN        562  ...    4.0     10.0          0   \n",
       "4899405        1355            WN         79  ...    3.0      7.0          0   \n",
       "1704059        1505            AA        724  ...   12.0     19.0          0   \n",
       "2067822         829            MQ       3011  ...    3.0     15.0          0   \n",
       "6402069        1745            OH       5242  ...   10.0     39.0          0   \n",
       "6172541        2015            B6        286  ...    6.0     14.0          0   \n",
       "1737059        1521            B6       1255  ...    3.0     34.0          0   \n",
       "7410255        1555            CO       1557  ...    8.0     25.0          0   \n",
       "2706209        1005            MQ       4798  ...    7.0     10.0          0   \n",
       "\n",
       "         CancellationCode  Diverted  CarrierDelay WeatherDelay NASDelay  \\\n",
       "2239334               NaN         0           0.0          0.0      0.0   \n",
       "1576426               NaN         0           0.0          0.0      0.0   \n",
       "4228270               NaN         0           0.0          0.0      0.0   \n",
       "3586003               NaN         0           0.0          0.0      0.0   \n",
       "3060706               NaN         0           0.0          0.0      0.0   \n",
       "36591                 NaN         0           0.0          0.0      0.0   \n",
       "4493884               NaN         0           0.0          0.0      0.0   \n",
       "4334227               NaN         0           0.0          0.0      0.0   \n",
       "1149313               NaN         0           0.0          0.0      0.0   \n",
       "5559355               NaN         0           0.0          0.0      0.0   \n",
       "7120544               NaN         0           0.0          0.0     28.0   \n",
       "3165495               NaN         0           0.0          0.0      0.0   \n",
       "1747374               NaN         0           0.0          0.0      0.0   \n",
       "1982282               NaN         0           0.0          0.0      0.0   \n",
       "2796182               NaN         0           0.0          0.0      0.0   \n",
       "3314061               NaN         0           0.0          0.0      0.0   \n",
       "5427202               NaN         0           0.0          0.0      0.0   \n",
       "4899405               NaN         0           0.0          0.0      0.0   \n",
       "1704059               NaN         0           0.0          0.0     43.0   \n",
       "2067822               NaN         0           0.0          0.0      0.0   \n",
       "6402069               NaN         0           0.0          0.0     31.0   \n",
       "6172541               NaN         0           0.0          0.0      0.0   \n",
       "1737059               NaN         0           0.0          0.0      0.0   \n",
       "7410255               NaN         0           0.0          0.0     15.0   \n",
       "2706209               NaN         0           0.0          0.0      0.0   \n",
       "\n",
       "         SecurityDelay  LateAircraftDelay  \n",
       "2239334            0.0                0.0  \n",
       "1576426            0.0                0.0  \n",
       "4228270            0.0                0.0  \n",
       "3586003            0.0                0.0  \n",
       "3060706            0.0                0.0  \n",
       "36591              0.0                0.0  \n",
       "4493884            0.0                0.0  \n",
       "4334227            0.0                0.0  \n",
       "1149313            0.0                0.0  \n",
       "5559355            0.0                0.0  \n",
       "7120544            0.0                0.0  \n",
       "3165495            0.0                0.0  \n",
       "1747374            0.0                0.0  \n",
       "1982282            0.0                0.0  \n",
       "2796182            0.0                0.0  \n",
       "3314061            0.0                0.0  \n",
       "5427202            0.0                0.0  \n",
       "4899405            0.0                0.0  \n",
       "1704059            0.0                0.0  \n",
       "2067822            0.0                0.0  \n",
       "6402069            0.0                0.0  \n",
       "6172541            0.0                0.0  \n",
       "1737059            0.0                0.0  \n",
       "7410255            0.0                0.0  \n",
       "2706209            0.0                0.0  \n",
       "\n",
       "[25 rows x 29 columns]"
      ]
     },
     "execution_count": 21,
     "metadata": {},
     "output_type": "execute_result"
    }
   ],
   "source": [
    "# display sample data from df_fltdata\n",
    "df_fltdata.sample(25)"
   ]
  },
  {
   "cell_type": "code",
   "execution_count": 22,
   "metadata": {
    "slideshow": {
     "slide_type": "skip"
    }
   },
   "outputs": [
    {
     "data": {
      "text/plain": [
       "Year                 21604865\n",
       "Month                21604865\n",
       "DayofMonth           21604865\n",
       "DayOfWeek            21604865\n",
       "DepTime              21185937\n",
       "CRSDepTime           21604865\n",
       "ArrTime              21137169\n",
       "CRSArrTime           21604865\n",
       "UniqueCarrier        21604865\n",
       "FlightNum            21604865\n",
       "TailNum              21521478\n",
       "ActualElapsedTime    21134119\n",
       "CRSElapsedTime       21603023\n",
       "AirTime              21134119\n",
       "ArrDelay             21134119\n",
       "DepDelay             21185937\n",
       "Origin               21604865\n",
       "Dest                 21604865\n",
       "Distance             21604865\n",
       "TaxiIn               21453216\n",
       "TaxiOut              21467807\n",
       "Cancelled            21604865\n",
       "CancellationCode       420117\n",
       "Diverted             21604865\n",
       "CarrierDelay         21604865\n",
       "WeatherDelay         21604865\n",
       "NASDelay             21604865\n",
       "SecurityDelay        21604865\n",
       "LateAircraftDelay    21604865\n",
       "dtype: int64"
      ]
     },
     "execution_count": 22,
     "metadata": {},
     "output_type": "execute_result"
    }
   ],
   "source": [
    "# display count of data from df_fltdata\n",
    "df_fltdata.count()"
   ]
  },
  {
   "cell_type": "markdown",
   "metadata": {
    "slideshow": {
     "slide_type": "skip"
    }
   },
   "source": [
    "#### Notes:\n",
    "\n",
    "> The dataset has 29 columns. Description of some of the columns are given below:\n",
    ">1. `DepTime` is the actual departure time (local, hhmm)\n",
    ">2. `CRSDepTime` is the scheduled departure time (local, hhmm)\n",
    ">3. `ArrTime` is the actual arrival time (local, hhmm)\n",
    ">4. `CRSArrTime` is the scheduled arrival time (local, hhmm)\n",
    ">5. `UniqueCarrier` is unique carrier code which represent the airlines, we have 21 such codes. Example: US stands for Puerto Rico International Airlines Inc., WN stands for Southwest Airlines Co., YV stands for Mesa Airlines, Inc. and so on. \n",
    ">6. `ActualElapsedTime` is the actual elapsed time of flight, in minutes\n",
    ">7. `CRSElapsedTime` is the CRS elapsed time of flight (aka estimated elapse time), in minutes\n",
    ">8. `ArrDelay` is the difference in minutes between scheduled and actual arrival time. Early arrivals show negative numbers, in minutes\n",
    ">9. `DepDelay` is the difference in minutes between scheduled and actual departure time. Early departures show negative numbers, in minutes\n",
    ">10. `TaxiIn` is the wheels down and arrival at the destination airport gate, in minutes\n",
    ">11. `TaxiOut` is the time elapsed between departure from the origin airport gate and wheels off, in minutes\n",
    ">12. `CancellationCode` is the reason for cancellation (A = carrier, B = weather, C = NAS, D = security)\n",
    ">13. `NASDelay` where NAS stands for \tNational Airspace System\n",
    ">14. `Diverted` 1 = yes, 0 = no\n",
    ">15. `Cancelled` 1 = yes, 0 = no\n",
    "\n",
    "\n",
    "> The main features of interest are fields that are responsible for causing delays and cancellationsand how it corresponds to individual carriers. These can be used to figure out the performance and characteristics of flights to different destinations.\n",
    "\n",
    "\n",
    "> The features that attribute to month, day of week, arrival and departure delays (in minutes), cancellation codes and cancellation reasons will help support my investigation into the features of interest. We can also try to find relationship between flight carrier and the delays. "
   ]
  },
  {
   "cell_type": "markdown",
   "metadata": {
    "slideshow": {
     "slide_type": "skip"
    }
   },
   "source": [
    "## Univariate Exploration\n",
    "\n",
    "> In this section, investigate distributions of individual variables."
   ]
  },
  {
   "cell_type": "markdown",
   "metadata": {
    "slideshow": {
     "slide_type": "slide"
    }
   },
   "source": [
    "## What are the most common reasons of flight cancellation?\n",
    "\n",
    ">Carrier and Weather related cancellations are most common."
   ]
  },
  {
   "cell_type": "code",
   "execution_count": 23,
   "metadata": {
    "slideshow": {
     "slide_type": "subslide"
    }
   },
   "outputs": [
    {
     "data": {
      "image/png": "[encoded data removed]",
      "text/plain": [
       "<Figure size 576x432 with 1 Axes>"
      ]
     },
     "metadata": {
      "needs_background": "light"
     },
     "output_type": "display_data"
    },
    {
     "data": {
      "text/plain": [
       "A    176764\n",
       "B    154753\n",
       "C     88392\n",
       "D       208\n",
       "Name: CancellationCode, dtype: int64"
      ]
     },
     "execution_count": 23,
     "metadata": {},
     "output_type": "execute_result"
    }
   ],
   "source": [
    "# Count the frequency of unique values in the `CancellationCode` column of df_fltdata dataframe. \n",
    "# By default, returns the decreasing order of the frequency.\n",
    "cc_counts = df_fltdata['CancellationCode'].value_counts()\n",
    "cc_order = cc_counts.index \n",
    "\n",
    "#Define Plot\n",
    "fig, ax = plt.subplots(figsize=(8,6))\n",
    "base_color=sb.color_palette()[0]\n",
    "sb.countplot(data=df_fltdata,x='CancellationCode',color=base_color, order=cc_order)\n",
    "ax.set_xticklabels(['Carrier',' Extreme Weather','NAS','Security'])\n",
    "plt.xlabel('Flight Cancellation Reason')\n",
    "plt.title('Flight Cancellation Reason by Count', fontsize = 15)\n",
    "\n",
    "# Dsiplay the plot\n",
    "plt.show()\n",
    "\n",
    "cc_counts"
   ]
  },
  {
   "cell_type": "markdown",
   "metadata": {
    "slideshow": {
     "slide_type": "skip"
    }
   },
   "source": [
    ">Note: Cancellation Codes:\n",
    ">\n",
    ">(A) Air Carrier;\n",
    ">(B) Extreme Weather;\n",
    ">(C) National Aviation System (NAS); and\n",
    ">(D) Security.\n",
    ">\n",
    ">As per the above graph, Carrier and Weather are the most likely cause of flight cancellations followed by National Aviation System (NAS). Security is the least likely cause of flight cancellation.\n",
    ">\n",
    ">Now that we know the highest flight cancellation reason is due to Carriers which may include reasons like Aircraft cleaning, Aircraft damage, Fueling, Medical emergency, Weight and balance delays and so on, I would like to investigate later which flight carrier tops the cancellation chart based on Unique Carrier codes.\n",
    ">\n",
    ">I would like to investigate further on which carrier has the most cancellations and count of flights broken down by cancellation reason and so on."
   ]
  },
  {
   "cell_type": "markdown",
   "metadata": {
    "slideshow": {
     "slide_type": "skip"
    }
   },
   "source": [
    "#### Which day of the week has the most number of flights scheduled?"
   ]
  },
  {
   "cell_type": "code",
   "execution_count": 24,
   "metadata": {
    "slideshow": {
     "slide_type": "skip"
    }
   },
   "outputs": [],
   "source": [
    "# Count the frequency of unique values in the 'DayOfWeek' column of df_fltdata dataframe. \n",
    "# By default, returns the decreasing order of the frequency.\n",
    "dayofweek_counts = df_fltdata['DayOfWeek'].value_counts()\n",
    "dayofweek_order = dayofweek_counts.index "
   ]
  },
  {
   "cell_type": "code",
   "execution_count": 25,
   "metadata": {
    "slideshow": {
     "slide_type": "skip"
    }
   },
   "outputs": [
    {
     "data": {
      "image/png": "[encoded data removed]",
      "text/plain": [
       "<Figure size 576x432 with 1 Axes>"
      ]
     },
     "metadata": {
      "needs_background": "light"
     },
     "output_type": "display_data"
    },
    {
     "data": {
      "text/plain": [
       "1    3196729\n",
       "5    3193461\n",
       "4    3182911\n",
       "3    3171475\n",
       "2    3140933\n",
       "7    3028951\n",
       "6    2690405\n",
       "Name: DayOfWeek, dtype: int64"
      ]
     },
     "execution_count": 25,
     "metadata": {},
     "output_type": "execute_result"
    }
   ],
   "source": [
    "#Define Plot\n",
    "fig, ax = plt.subplots(figsize=(8,6))\n",
    "base_color=sb.color_palette()[0]\n",
    "sb.countplot(data=df_fltdata,x='DayOfWeek',color=base_color, order=dayofweek_order)\n",
    "ax.set_xticklabels(['Mon','Fri','Thu','Wed','Tue','Sun','Sat'])\n",
    "plt.xlabel('DayOfWeek')\n",
    "plt.ylabel('Count of Flight (in millions)')\n",
    "plt.title('Flight Count by Day Of Week', fontsize = 15)\n",
    "\n",
    "# Dsiplay the plot\n",
    "plt.show()\n",
    "\n",
    "dayofweek_counts"
   ]
  },
  {
   "cell_type": "markdown",
   "metadata": {
    "slideshow": {
     "slide_type": "skip"
    }
   },
   "source": [
    ">As per the plot above, people travel most on Mondays and Fridays which seems right to utilize the weekend. Saturday has the least number of flights booked. "
   ]
  },
  {
   "cell_type": "markdown",
   "metadata": {
    "slideshow": {
     "slide_type": "skip"
    }
   },
   "source": [
    "#### Which months have the most number of flights scheduled?"
   ]
  },
  {
   "cell_type": "code",
   "execution_count": 26,
   "metadata": {
    "slideshow": {
     "slide_type": "skip"
    }
   },
   "outputs": [],
   "source": [
    "# Count the frequency of unique values in the 'Month' column of df_fltdata dataframe. \n",
    "# By default, returns the decreasing order of the frequency.\n",
    "month_counts = df_fltdata['Month'].value_counts()\n",
    "month_order = month_counts.index "
   ]
  },
  {
   "cell_type": "code",
   "execution_count": 27,
   "metadata": {
    "slideshow": {
     "slide_type": "skip"
    }
   },
   "outputs": [
    {
     "data": {
      "image/png": "[encoded data removed]",
      "text/plain": [
       "<Figure size 576x432 with 1 Axes>"
      ]
     },
     "metadata": {
      "needs_background": "light"
     },
     "output_type": "display_data"
    },
    {
     "data": {
      "text/plain": [
       "7     1897735\n",
       "8     1894290\n",
       "3     1860516\n",
       "5     1840821\n",
       "6     1836260\n",
       "1     1808611\n",
       "4     1798125\n",
       "10    1797915\n",
       "12    1763855\n",
       "9     1726032\n",
       "11    1714618\n",
       "2     1666087\n",
       "Name: Month, dtype: int64"
      ]
     },
     "execution_count": 27,
     "metadata": {},
     "output_type": "execute_result"
    }
   ],
   "source": [
    "#Define Plot\n",
    "fig, ax = plt.subplots(figsize=(8,6))\n",
    "base_color=sb.color_palette()[0]\n",
    "sb.countplot(data=df_fltdata,x='Month',color=base_color, order=month_order)\n",
    "ax.set_xticklabels(['Jul','Aug','Mar','May','Jun','Jan','Apr','Oct','Dec','Sep','Nov','Feb'])\n",
    "plt.xlabel('Month')\n",
    "plt.ylabel('Count of Flight (in millions)')\n",
    "plt.title('Flight Count by Month', fontsize = 15)\n",
    "\n",
    "# Dsiplay the plot\n",
    "plt.show()\n",
    "\n",
    "month_counts"
   ]
  },
  {
   "cell_type": "markdown",
   "metadata": {
    "slideshow": {
     "slide_type": "skip"
    }
   },
   "source": [
    ">Top 5 months with flights scheduled are Jul, Aug, Mar, May and Jun (in the same order). The least number of flights scheduled are in Feb. This could be due to weather."
   ]
  },
  {
   "cell_type": "markdown",
   "metadata": {
    "slideshow": {
     "slide_type": "skip"
    }
   },
   "source": [
    "#### Distribution of flight departure time "
   ]
  },
  {
   "cell_type": "code",
   "execution_count": 28,
   "metadata": {
    "slideshow": {
     "slide_type": "skip"
    }
   },
   "outputs": [],
   "source": [
    "#Filter only data with DepTime information, so removing NaN values. If not done it gives an error.\n",
    "df_dep_time = df_fltdata[df_fltdata.DepTime.notnull()]"
   ]
  },
  {
   "cell_type": "code",
   "execution_count": 29,
   "metadata": {
    "slideshow": {
     "slide_type": "skip"
    }
   },
   "outputs": [
    {
     "data": {
      "image/png": "[encoded data removed]",
      "text/plain": [
       "<Figure size 1440x576 with 1 Axes>"
      ]
     },
     "metadata": {
      "needs_background": "light"
     },
     "output_type": "display_data"
    }
   ],
   "source": [
    "#Define plot\n",
    "fig, ax = plt.subplots(figsize=(20,8))\n",
    "bin_edges=np.arange(0,2500,100)\n",
    "tick_props = np.arange(0, 2500, 100)\n",
    "plt.hist(df_dep_time.DepTime,bins = bin_edges)\n",
    "plt.xlim(0,2500)\n",
    "\n",
    "ax.set_xticklabels(['0:00','1:00','2:00','3:00','4:00','5:00','6:00','7:00','8:00','9:00',\n",
    "                    '10:00','11:00','12:00','13:00','14:00','15:00','16:00','17:00','18:00',\n",
    "                    '19:00','20:00','21:00','22:00','23:00','24:00'])\n",
    "plt.xticks(tick_props)\n",
    "plt.xlabel('Departure Time (hhmm)')\n",
    "plt.ylabel('Count')\n",
    "plt.title('Distribution Of Departure Time', fontsize = 15);\n",
    "\n",
    "# Dsiplay the plot\n",
    "plt.show()"
   ]
  },
  {
   "cell_type": "markdown",
   "metadata": {
    "slideshow": {
     "slide_type": "skip"
    }
   },
   "source": [
    ">From the above plot, we know that the maximum flight departure happens between 6 AM to 8 PM."
   ]
  },
  {
   "cell_type": "markdown",
   "metadata": {
    "slideshow": {
     "slide_type": "slide"
    }
   },
   "source": [
    "## What is the distribution of delay in flight arrivals? \n",
    "\n",
    ">Most flight arrival delay is between 0 to 50 minutes."
   ]
  },
  {
   "cell_type": "code",
   "execution_count": 30,
   "metadata": {
    "slideshow": {
     "slide_type": "subslide"
    }
   },
   "outputs": [
    {
     "data": {
      "image/png": "[encoded data removed]",
      "text/plain": [
       "<Figure size 576x576 with 1 Axes>"
      ]
     },
     "metadata": {
      "needs_background": "light"
     },
     "output_type": "display_data"
    }
   ],
   "source": [
    "#Filter only data with ArrDelay information, so removing NaN values. If not done it gives an error.\n",
    "df_arr_delay = df_fltdata[df_fltdata.ArrDelay.notnull()]\n",
    "\n",
    "#Define plot\n",
    "fig, ax = plt.subplots(figsize=(8,8))\n",
    "# The data is concentrated between -60 and 300 we will set the x limits accordingly\n",
    "bin_edges=np.arange(-60,300,5)\n",
    "plt.hist(df_arr_delay.ArrDelay,bins = bin_edges)\n",
    "#plt.yscale('log') - plot did not look good when I scaled it to log type\n",
    "plt.xlim(-100,300)\n",
    "plt.xlabel('Arrival Delays (mins)')\n",
    "plt.ylabel('Count')\n",
    "plt.title('Distribution Of Arrival Delays', fontsize = 15);\n",
    "\n",
    "# Dsiplay the plot\n",
    "plt.show()"
   ]
  },
  {
   "cell_type": "markdown",
   "metadata": {
    "slideshow": {
     "slide_type": "skip"
    }
   },
   "source": [
    ">From the above histogram we can observe that the distribution is skewed towards right. We also notice that most of the arrival delay is between 0 to 50 minutes. And early arrivals between 0 to -50 minutes."
   ]
  },
  {
   "cell_type": "markdown",
   "metadata": {
    "slideshow": {
     "slide_type": "skip"
    }
   },
   "source": [
    "#### Distribution of depature delays\n",
    "\n",
    "Lets look at how departure delays are distributed across the dataset."
   ]
  },
  {
   "cell_type": "code",
   "execution_count": 31,
   "metadata": {
    "slideshow": {
     "slide_type": "skip"
    }
   },
   "outputs": [],
   "source": [
    "#Filter only data with DepDelay information, so removing NaN values. If not done it gives an error.\n",
    "df_dep_delay = df_fltdata[df_fltdata.DepDelay.notnull()]"
   ]
  },
  {
   "cell_type": "code",
   "execution_count": 32,
   "metadata": {
    "slideshow": {
     "slide_type": "skip"
    }
   },
   "outputs": [
    {
     "data": {
      "image/png": "[encoded data removed]",
      "text/plain": [
       "<Figure size 576x576 with 1 Axes>"
      ]
     },
     "metadata": {
      "needs_background": "light"
     },
     "output_type": "display_data"
    }
   ],
   "source": [
    "#Define plot\n",
    "fig, ax = plt.subplots(figsize=(8,8))\n",
    "# The data is concentrated between -30 and 250 we will set the x limits accordingly\n",
    "bin_edges=np.arange(-30,250,5)\n",
    "plt.hist(data = df_dep_delay, x= 'DepDelay',bins = bin_edges)\n",
    "#plt.yscale('log')  - plot did not look good when I scaled it to log type\n",
    "plt.xlim(-50,300)\n",
    "plt.xlabel('Departure Delays (mins)')\n",
    "plt.ylabel('Count')\n",
    "plt.title('Distribution Of Departure Delays', fontsize = 15);\n",
    "\n",
    "# Dsiplay the plot\n",
    "plt.show()"
   ]
  },
  {
   "cell_type": "markdown",
   "metadata": {
    "slideshow": {
     "slide_type": "skip"
    }
   },
   "source": [
    ">From the above histogram we can observe that the distribution is skewed towards right. We also notice that most of the departure delay is between 0 to 50 minutes similar to arrival delays. And early departures are between 0 to -20 minutes."
   ]
  },
  {
   "cell_type": "markdown",
   "metadata": {
    "slideshow": {
     "slide_type": "skip"
    }
   },
   "source": [
    "#### Notes:\n",
    "\n",
    "> As part of Univariate exploration, I looked at cancellation codes, carrier codes , day of week, cancellation by month, distribution of flight departure time and arrival & departure delays distribution.\n",
    ">\n",
    "> It was observed that Carrier and Weather are the top two reasons of cancellation, whereas Security was the least likely reason for cancellation. \n",
    ">\n",
    "> While exploring delays in arrival and departure of carrier flights to understand their distribution, I had to transform the histogram by placing limits on x axis since most of the data is concentrated within that limit.\n",
    ">\n",
    "> Most arrival delays and departure delays are between 0 to 50 minutes.\n",
    "\n",
    "\n",
    "\n",
    "> Of the features I investigated I did not observe any unusual distributions.\n",
    ">\n",
    ">Filled in 0's for all NaN values for columns CarrierDelay, WeatherDelay, NASDelay, SecurityDelay and LateAircraftDelay in dataset df_2008_clean. This is done to make it uniform across the other two datasets. I assumed this was left  blank instead of entering 0 for 2008 data.\n",
    ">\n",
    ">Appended all three dataframes and saved into master df 'df_fltdata'. This also implicitly converted TaxiIn, TaxiOut, CarrierDelay, WeatherDelay, NASDelay, SecurityDelay and LateAircraftDelay in df_2007_clean and df_2006_clean from int to float before appending into df_fltdata. \n",
    ">\n",
    "> To explore cancellations by carriers and cancellations by month, I modified the original dataset and filtered only those rows that had cancellations (A,B,C or D). \n",
    ">\n",
    "> To explore arrival and departure delays, I created new dataframes that excluded NaN (missing) values so as to plot histograms.\n"
   ]
  },
  {
   "cell_type": "markdown",
   "metadata": {
    "slideshow": {
     "slide_type": "skip"
    }
   },
   "source": [
    "## Bivariate Exploration\n",
    "\n",
    "> In this section, investigate relationships between pairs of variables in your\n",
    "data. "
   ]
  },
  {
   "cell_type": "markdown",
   "metadata": {
    "slideshow": {
     "slide_type": "slide"
    }
   },
   "source": [
    "## Which aircraft carrier has most cancellations?\n",
    "\n",
    ">5 aircraft carriers which performed worst in terms of cancellation are:\n",
    ">\n",
    ">1. MQ - Envoy Air Inc.,\n",
    ">2. AA - American Airlines Inc., \n",
    ">3. OO - SkyWest Airlines,\n",
    ">4. UA - United Airlines, Inc. and ,\n",
    ">5. WN - Southwest Airlines Co."
   ]
  },
  {
   "cell_type": "code",
   "execution_count": 33,
   "metadata": {
    "slideshow": {
     "slide_type": "subslide"
    }
   },
   "outputs": [
    {
     "data": {
      "image/png": "[encoded data removed]",
      "text/plain": [
       "<Figure size 576x432 with 1 Axes>"
      ]
     },
     "metadata": {
      "needs_background": "light"
     },
     "output_type": "display_data"
    }
   ],
   "source": [
    "#Fetch data for only cancellation code (cc) data\n",
    "df_fltdata_fcc = df_fltdata.query('CancellationCode in [\"A\",\"B\",\"C\",\"D\"]')\n",
    "\n",
    "# Count the frequency of unique values in the `UniqueCarrier` column of df_fltdata_fcc dataframe. \n",
    "# By default, returns the decreasing order of the frequency.\n",
    "fcc_counts = df_fltdata_fcc['UniqueCarrier'].value_counts()\n",
    "fcc_order = fcc_counts.index \n",
    "\n",
    "#Define Plot\n",
    "fig, ax = plt.subplots(figsize=(8,6))\n",
    "base_color=sb.color_palette()[0]\n",
    "sb.countplot(data = df_fltdata_fcc, x = 'UniqueCarrier', color = base_color, order=fcc_order);\n",
    "plt.xlabel('Unique Carrier Code');\n",
    "plt.title('Flight Cancellations By Carriers', fontsize = 15);\n",
    "\n",
    "# Dsiplay the plot\n",
    "plt.show()\n",
    "\n",
    "#fcc_counts"
   ]
  },
  {
   "cell_type": "markdown",
   "metadata": {
    "slideshow": {
     "slide_type": "skip"
    }
   },
   "source": [
    "#### Flight cancellation by month"
   ]
  },
  {
   "cell_type": "code",
   "execution_count": 34,
   "metadata": {
    "slideshow": {
     "slide_type": "skip"
    }
   },
   "outputs": [],
   "source": [
    "# Count the frequency of unique values in the `Month` column of df_fltdata_fcc dataframe. \n",
    "# By default, returns the decreasing order of the frequency.\n",
    "mon_order = df_fltdata_fcc['Month'].value_counts(sort=False)"
   ]
  },
  {
   "cell_type": "code",
   "execution_count": 35,
   "metadata": {
    "slideshow": {
     "slide_type": "skip"
    }
   },
   "outputs": [
    {
     "data": {
      "image/png": "[encoded data removed]",
      "text/plain": [
       "<Figure size 576x432 with 1 Axes>"
      ]
     },
     "metadata": {
      "needs_background": "light"
     },
     "output_type": "display_data"
    },
    {
     "data": {
      "text/plain": [
       "1     42872\n",
       "2     57354\n",
       "3     40646\n",
       "4     28097\n",
       "5     20127\n",
       "6     38262\n",
       "7     34839\n",
       "8     31913\n",
       "9     26370\n",
       "10    21975\n",
       "11    20295\n",
       "12    57367\n",
       "Name: Month, dtype: int64"
      ]
     },
     "execution_count": 35,
     "metadata": {},
     "output_type": "execute_result"
    }
   ],
   "source": [
    "#Define Plot\n",
    "fig, ax = plt.subplots(figsize=(8,6))\n",
    "base_color=sb.color_palette()[0]\n",
    "sb.countplot(data=df_fltdata_fcc,x='Month',color=base_color, order=mon_order.index);\n",
    "ax.set_xticklabels(['Jan','Feb','Mar','Apr','May','Jun','Jul','Aug','Sep','Oct','Nov','Dec'])\n",
    "plt.xlabel('Month');\n",
    "plt.title('Flight Cancellations by Month', fontsize = 15);\n",
    "\n",
    "# Dsiplay the plot\n",
    "plt.show()\n",
    "\n",
    "mon_order"
   ]
  },
  {
   "cell_type": "markdown",
   "metadata": {
    "slideshow": {
     "slide_type": "skip"
    }
   },
   "source": [
    ">Dec, Feb, Jan, Mar and Jun are the top 5 months with most cancellations. We can explore more on this to check if cancellations due to weather attribute to this trend above."
   ]
  },
  {
   "cell_type": "markdown",
   "metadata": {
    "slideshow": {
     "slide_type": "skip"
    }
   },
   "source": [
    "#### For each cancellation code (A,B,C, D) which month had the most cancellations?"
   ]
  },
  {
   "cell_type": "code",
   "execution_count": 37,
   "metadata": {
    "slideshow": {
     "slide_type": "skip"
    }
   },
   "outputs": [
    {
     "data": {
      "text/plain": [
       "<seaborn.axisgrid.FacetGrid at 0x21f4ddd3c70>"
      ]
     },
     "execution_count": 37,
     "metadata": {},
     "output_type": "execute_result"
    },
    {
     "data": {
      "image/png": "[encoded data removed]",
      "text/plain": [
       "<Figure size 432x432 with 4 Axes>"
      ]
     },
     "metadata": {
      "needs_background": "light"
     },
     "output_type": "display_data"
    }
   ],
   "source": [
    "#Define plot\n",
    "month_order=[1,2,3,4,5,6,7,8,9,10,11,12]\n",
    "g=sb.FacetGrid(data=df_fltdata_fcc,col='CancellationCode',col_wrap=2)\n",
    "g.map(sb.countplot,'Month',order=month_order)"
   ]
  },
  {
   "cell_type": "markdown",
   "metadata": {
    "slideshow": {
     "slide_type": "skip"
    }
   },
   "source": [
    ">The plot above for cancellation code \"B\" shows that the months of December, February, January and March had most cancellations due to bad weather. \n",
    ">\n",
    "> Hardly any cancellation due to security - Cancellation Reason 'D'"
   ]
  },
  {
   "cell_type": "markdown",
   "metadata": {
    "slideshow": {
     "slide_type": "slide"
    }
   },
   "source": [
    "## Which aircraft carrier has the highest delays at Arrival? Do the same carriers perform worse at this?\n",
    "\n",
    ">Interestingly, the same set of 5 aircraft carriers also performed worst in arrival delays as well (order is little differnt). \n",
    ">1. AA - American Airlines Inc.,\n",
    ">2. WN - Southwest Airlines Co.\n",
    ">3. MQ - Envoy Air Inc.,\n",
    ">4. UA - United Airlines, Inc. and ,\n",
    ">5. WN - Southwest Airlines Co."
   ]
  },
  {
   "cell_type": "code",
   "execution_count": 38,
   "metadata": {
    "slideshow": {
     "slide_type": "subslide"
    }
   },
   "outputs": [
    {
     "data": {
      "image/png": "[encoded data removed]",
      "text/plain": [
       "<Figure size 576x576 with 1 Axes>"
      ]
     },
     "metadata": {
      "needs_background": "light"
     },
     "output_type": "display_data"
    }
   ],
   "source": [
    "#Group by carrier codes and get sum of delays for each carrier\n",
    "carrier_arrdelays = df_arr_delay.groupby('UniqueCarrier').ArrDelay.sum().sort_values(ascending=False)\n",
    "\n",
    "#Define bar plot\n",
    "fig, ax = plt.subplots(figsize=(8,8))\n",
    "base_color = sb.color_palette()[0]\n",
    "sb.barplot(x = carrier_arrdelays.index, y = carrier_arrdelays.values,color=base_color)\n",
    "ax.set_yticklabels(['','0','5M','10M','15M','20M'])\n",
    "plt.xlabel('Aircraft Carriers');\n",
    "plt.ylabel('Total Arrival Delay (in mins)');\n",
    "plt.title('Carriers with Highest Arrival Delay', fontsize = 15);\n",
    "\n",
    "# Dsiplay the plot\n",
    "plt.show()\n",
    "\n",
    "#carrier_arrdelays"
   ]
  },
  {
   "cell_type": "markdown",
   "metadata": {
    "slideshow": {
     "slide_type": "skip"
    }
   },
   "source": [
    ">From the above graph, 'AA - American Airlines Inc.' has the highest arrival delays followed by 'WN - Southwest Airlines Co.' among all aircraft carriers whereas 'AQ - 9 Air Co Ltd' has the most early arrivals followed by 'HA - Hawaiian Airlines, Inc.'"
   ]
  },
  {
   "cell_type": "markdown",
   "metadata": {
    "slideshow": {
     "slide_type": "slide"
    }
   },
   "source": [
    "## Which aircraft carrier has the highest delays at Departure? Do the same carriers perform worst at this?\n",
    "\n",
    ">Just like arrival delays, the same set of 5 aircraft carriers also performed worst in departure delays as well (order is little differnt). \n",
    ">1. WN - Southwest Airlines Co.\n",
    ">2. AA - American Airlines Inc.,\n",
    ">3. UA - United Airlines, Inc.,\n",
    ">4. MQ - Envoy Air Inc.,\n",
    ">5. OO - SkyWest Airlines,"
   ]
  },
  {
   "cell_type": "code",
   "execution_count": 39,
   "metadata": {
    "slideshow": {
     "slide_type": "subslide"
    }
   },
   "outputs": [
    {
     "data": {
      "image/png": "[encoded data removed]",
      "text/plain": [
       "<Figure size 576x576 with 1 Axes>"
      ]
     },
     "metadata": {
      "needs_background": "light"
     },
     "output_type": "display_data"
    }
   ],
   "source": [
    "#Group by carrier codes and get sum of delays for each carrier\n",
    "carrier_depdelays = df_dep_delay.groupby('UniqueCarrier').DepDelay.sum().sort_values(ascending=False)\n",
    "\n",
    "#Define bar plot\n",
    "fig, ax = plt.subplots(figsize=(8,8))\n",
    "base_color = sb.color_palette()[0]\n",
    "sb.barplot(x = carrier_depdelays.index, y = carrier_depdelays.values,color=base_color)\n",
    "ax.set_yticklabels(['','0','5M','10M','15M','20M','25M','30M','35M'])\n",
    "plt.xlabel('Aircraft Carriers');\n",
    "plt.ylabel('Total Depature Delay (in mins)');\n",
    "plt.title('Carriers with Highest Departure Delays', fontsize = 15);\n",
    "\n",
    "# Dsiplay the plot\n",
    "plt.show()\n",
    "\n",
    "#carrier_depdelays"
   ]
  },
  {
   "cell_type": "markdown",
   "metadata": {
    "slideshow": {
     "slide_type": "skip"
    }
   },
   "source": [
    ">From the above graph, 'WN - Southwest Airlines Co.' has the highest departure delays followed by 'AA - American Airlines Inc.' among all aircraft carriers whereas 'HA - Hawaiian Airlines, Inc.' has the most early departures. "
   ]
  },
  {
   "cell_type": "markdown",
   "metadata": {
    "slideshow": {
     "slide_type": "slide"
    }
   },
   "source": [
    "## Which aircraft carrier has most cancellations under each cancellation category?\n",
    "\n",
    "> UA (United Airlines Inc) has the highest cancellation due to code 'A' which stands for Carriers\n",
    ">\n",
    "> MQ (Envoy Air Inc) has the highest cancellation due to code 'B' and 'C' which stands for Extreme Weather and NAS respectively\n",
    ">\n",
    "> XE (Delux Public Charter LLC dba JSX Air) has the highest cancellation due to code 'D' which stands for Security\n",
    ">\n",
    ">Note: The Cancellation Code A (Carrier) and B (Extreme Weather) are the most prominent ones; D (Security) attributes to the least number of cancellations. "
   ]
  },
  {
   "cell_type": "code",
   "execution_count": 42,
   "metadata": {
    "slideshow": {
     "slide_type": "subslide"
    }
   },
   "outputs": [
    {
     "data": {
      "image/png": "[encoded data removed]",
      "text/plain": [
       "<Figure size 1080x720 with 1 Axes>"
      ]
     },
     "metadata": {
      "needs_background": "light"
     },
     "output_type": "display_data"
    }
   ],
   "source": [
    "#Define plot\n",
    "fig, ax = plt.subplots(figsize=(15,10))\n",
    "sb.countplot(data = df_fltdata, x='UniqueCarrier', hue='CancellationCode')\n",
    "plt.xlabel('Aircraft Carrier');\n",
    "plt.title('Carriers With Cancellation Under Each Category', fontsize = 15)\n",
    "\n",
    "#Display Plot\n",
    "plt.show()"
   ]
  },
  {
   "cell_type": "markdown",
   "metadata": {
    "slideshow": {
     "slide_type": "skip"
    }
   },
   "source": [
    "#### Is there any relationship between departure and arrival delays?"
   ]
  },
  {
   "cell_type": "code",
   "execution_count": 43,
   "metadata": {
    "slideshow": {
     "slide_type": "skip"
    }
   },
   "outputs": [
    {
     "data": {
      "image/png": "[encoded data removed]",
      "text/plain": [
       "<Figure size 576x576 with 1 Axes>"
      ]
     },
     "metadata": {
      "needs_background": "light"
     },
     "output_type": "display_data"
    }
   ],
   "source": [
    "#Define plot\n",
    "plt.figure(figsize=(8,8))\n",
    "plt.scatter(data=df_fltdata.query('Cancelled == 0'),x='DepDelay',y='ArrDelay',alpha=1/4)\n",
    "plt.xlabel('Departure Delay (minutes)')\n",
    "plt.ylabel('Arrival Delay (minutes)')\n",
    "plt.title('Relationship between Departure and Arrival Delay')\n",
    "\n",
    "# Dsiplay the plot\n",
    "plt.show()"
   ]
  },
  {
   "cell_type": "markdown",
   "metadata": {
    "slideshow": {
     "slide_type": "skip"
    }
   },
   "source": [
    ">Looks like the plot shows positive correlation between departure and arrival delay. "
   ]
  },
  {
   "cell_type": "markdown",
   "metadata": {
    "slideshow": {
     "slide_type": "skip"
    }
   },
   "source": [
    "#### Is there any relationship between airport distance and mean arrival delay?"
   ]
  },
  {
   "cell_type": "code",
   "execution_count": 64,
   "metadata": {
    "slideshow": {
     "slide_type": "skip"
    }
   },
   "outputs": [],
   "source": [
    "# filter out data where ArrDelay is greater than 0 and groupby Distance while taking the average of the ArrDelay\n",
    "dist_arrdelay = df_fltdata.query('ArrDelay>0').groupby('Distance')['ArrDelay'].mean()"
   ]
  },
  {
   "cell_type": "code",
   "execution_count": 65,
   "metadata": {
    "slideshow": {
     "slide_type": "skip"
    }
   },
   "outputs": [
    {
     "data": {
      "image/png": "[encoded data removed]",
      "text/plain": [
       "<Figure size 576x576 with 1 Axes>"
      ]
     },
     "metadata": {
      "needs_background": "light"
     },
     "output_type": "display_data"
    }
   ],
   "source": [
    "#Define plot\n",
    "plt.figure(figsize=(8,8))\n",
    "x = dist_arrdelay.index\n",
    "y = dist_arrdelay.values\n",
    "sb.regplot(x=x,y=y)\n",
    "plt.xlabel('Distance between airports (miles)')\n",
    "plt.ylabel('Mean arrival delay (minutes)')\n",
    "plt.title('Relationship between flight distance and mean arrival delay',fontsize=15)\n",
    "\n",
    "# Dsiplay the plot\n",
    "plt.show()"
   ]
  },
  {
   "cell_type": "markdown",
   "metadata": {
    "slideshow": {
     "slide_type": "skip"
    }
   },
   "source": [
    "> There seems to be no significant increase or decrease in average arrival delay as the distance between airports increases."
   ]
  },
  {
   "cell_type": "markdown",
   "metadata": {
    "slideshow": {
     "slide_type": "slide"
    }
   },
   "source": [
    "## How did each carrier (in proportion) perform in terms of arrival delays?\n",
    "\n",
    ">TZ (ATA Airlines d/b/a ATA) has the worst performance followed by NW (Northwest Airlines Inc). The best performance is for HA (Hawaiian Airlines Inc)."
   ]
  },
  {
   "cell_type": "code",
   "execution_count": 44,
   "metadata": {
    "slideshow": {
     "slide_type": "subslide"
    }
   },
   "outputs": [
    {
     "data": {
      "image/png": "[encoded data removed]",
      "text/plain": [
       "<Figure size 1080x576 with 1 Axes>"
      ]
     },
     "metadata": {
      "needs_background": "light"
     },
     "output_type": "display_data"
    }
   ],
   "source": [
    "# Filter out data from df_fltdata wherein cancelled equals to 'No' and arrival delay has a positive value\n",
    "arr_delay =df_fltdata.query('Cancelled == 0 & ArrDelay > 0').groupby('UniqueCarrier').size()\n",
    "arr_delay = arr_delay.reset_index(name='DelayedFlights')\n",
    "#arr_delay\n",
    "\n",
    "# Filter out number of total flights that took off (not cancelled) (This will also include ArrDelay<=0)\n",
    "total_flts=df_fltdata.query('Cancelled==0').groupby('UniqueCarrier').size()\n",
    "total_flts = total_flts.reset_index(name='TotalFlights')\n",
    "#total_flts\n",
    "\n",
    "#Merge both dataframes on UniqueCarrier column\n",
    "df_merge = pd.merge(arr_delay,total_flts,on='UniqueCarrier')\n",
    "#df_merge\n",
    "\n",
    "#Calculate the percentage of delayed flights\n",
    "df_merge['DelayPercent'] = (df_merge['DelayedFlights']/df_merge['TotalFlights'])*100\n",
    "\n",
    "#Create a new column for on time flights percentage\n",
    "df_merge['OnTimePercent']= 100 - df_merge.DelayPercent\n",
    "df_merge = df_merge.sort_values(by='DelayPercent',ascending=False)\n",
    "\n",
    "#df_merge\n",
    "\n",
    "from matplotlib.font_manager import FontProperties\n",
    "\n",
    "fontP = FontProperties()\n",
    "fontP.set_size('medium')\n",
    "\n",
    "#Define plot\n",
    "plt.figure(figsize=(15,8))\n",
    "plt.bar(df_merge['UniqueCarrier'], df_merge['DelayPercent'], color='r')\n",
    "plt.bar(df_merge['UniqueCarrier'], df_merge['OnTimePercent'], bottom=df_merge['DelayPercent'], color='g')\n",
    "plt.xlabel('Aircraft Carriers')\n",
    "plt.ylabel('Performance Percentage')\n",
    "plt.title('Percentage Of Carrier Performance',fontsize = 15)\n",
    "plt.legend(['DelayPercent','OnTimePercent'],bbox_to_anchor=(1.05, 1), loc='upper left', prop=fontP)\n",
    "\n",
    "# Dsiplay the plot\n",
    "plt.show()"
   ]
  },
  {
   "cell_type": "markdown",
   "metadata": {
    "slideshow": {
     "slide_type": "skip"
    }
   },
   "source": [
    "> The red bars show Delay percentage of total flights for each carrier whereas the green bars are the OnTime percentage of total flights for each carrier. Larger the red bar, worse the performance for the carrier.\n",
    ">\n",
    ">From the above plot, we can see that TZ (ATA Airlines d/b/a ATA) has the worst performance followed by NW (Northwest Airlines Inc). The best performance is for HA (Hawaiian Airlines Inc)."
   ]
  },
  {
   "cell_type": "markdown",
   "metadata": {
    "slideshow": {
     "slide_type": "skip"
    }
   },
   "source": [
    "#### Notes:\n",
    "\n",
    "> From Bivariate exploration, we could infer the following:\n",
    "\n",
    "> MQ - Envoy Air Inc. has the most cancellation followed by AA - American Airlines Inc when all cancellations resons were included.\n",
    ">\n",
    ">UA (United Airlines Inc) has the highest cancellation due to code 'A' which stands for Carriers\n",
    ">\n",
    ">MQ (Envoy Air Inc) has the highest cancellation due to code 'B' and 'C' which stands for Extreme Weather and NAS respectively\n",
    ">\n",
    "> XE (Delux Public Charter LLC dba JSX Air) has the highest cancellation due to code 'D' which stands for Security\n",
    "\n",
    ">Dec, Feb, Jan, Mar and Jun are the top 5 months with most cancellations when all cancellations resons were included.\n",
    ">\n",
    ">Months of Dec, Feb, Jan and Mar had most cancellations due to bad weather.\n",
    "\n",
    ">'AA - American Airlines Inc.' has the highest arrival delays followed by 'WN - Southwest Airlines Co.' among all aircraft carriers whereas 'AQ - 9 Air Co Ltd' has the most early arrivals followed by 'HA - Hawaiian Airlines, Inc.'\n",
    "\n",
    ">'WN - Southwest Airlines Co.' has the highest departure delays followed by 'AA - American Airlines Inc.' among all aircraft carriers whereas 'HA - Hawaiian Airlines, Inc.' has the most early departures.\n",
    "\n",
    ">TZ (ATA Airlines d/b/a ATA) has the worst carrier performance followed by NW (Northwest Airlines Inc). The best carrier performance is for HA (Hawaiian Airlines Inc).\n",
    "\n",
    "\n",
    ">Found a linear relationship between departure and arrival delays. The relationship between departure and arrival delays needs to be further analyzed in mutlivariate exploration.\n",
    "\n",
    ">There seems to be no significant increase or decrease in average arrival delay as the distance between airports increases.\n"
   ]
  },
  {
   "cell_type": "markdown",
   "metadata": {
    "slideshow": {
     "slide_type": "skip"
    }
   },
   "source": [
    "## Multivariate Exploration\n",
    "\n",
    "> Create plots of three or more variables to investigate your data even\n",
    "further. "
   ]
  },
  {
   "cell_type": "markdown",
   "metadata": {
    "slideshow": {
     "slide_type": "slide"
    }
   },
   "source": [
    "## What were the major causes of delay across months for these years? Is the avg delay between 0 to 50 minutes?\n",
    "\n",
    ">Weather, late aircraft and Carrier related delays contribute most to overall delays as compared to others. Security is the least probable cause of delay. \n",
    ">\n",
    "> Yes, the average arrival delay is between 0 to 50 minutes"
   ]
  },
  {
   "cell_type": "code",
   "execution_count": 45,
   "metadata": {
    "slideshow": {
     "slide_type": "subslide"
    }
   },
   "outputs": [
    {
     "data": {
      "image/png": "[encoded data removed]",
      "text/plain": [
       "<Figure size 1080x720 with 1 Axes>"
      ]
     },
     "metadata": {
      "needs_background": "light"
     },
     "output_type": "display_data"
    }
   ],
   "source": [
    "#Create dataframes that will group each delay by month and calculate average delay for each\n",
    "carrier_by_month = df_fltdata.query('CarrierDelay > 0').groupby('Month')['CarrierDelay'].mean()\n",
    "carrier_by_month = carrier_by_month.reset_index(name='CarrierDelay')\n",
    "#carrier_by_month\n",
    "\n",
    "weather_by_month = df_fltdata.query('WeatherDelay > 0').groupby('Month')['WeatherDelay'].mean()\n",
    "weather_by_month = weather_by_month.reset_index(name='WeatherDelay')\n",
    "#weather_by_month\n",
    "\n",
    "nas_by_month = df_fltdata.query('NASDelay > 0').groupby('Month')['NASDelay'].mean()\n",
    "nas_by_month = nas_by_month.reset_index(name='NASDelay')\n",
    "#nas_by_month\n",
    "\n",
    "security_by_month = df_fltdata.query('SecurityDelay > 0').groupby('Month')['SecurityDelay'].mean()\n",
    "security_by_month = security_by_month.reset_index(name='SecurityDelay')\n",
    "#security_by_month\n",
    "\n",
    "lateaircraft_by_month = df_fltdata.query('LateAircraftDelay>0').groupby('Month')['LateAircraftDelay'].mean()\n",
    "lateaircraft_by_month = lateaircraft_by_month.reset_index(name='LateAircraftDelay')\n",
    "#lateaircraft_by_month\n",
    "\n",
    "#Join all the dataframes into one on 'Month'\n",
    "temp = carrier_by_month.merge(weather_by_month,on='Month')\n",
    "temp = temp.merge(nas_by_month,on='Month')\n",
    "temp = temp.merge(security_by_month,on='Month')\n",
    "delays_by_month = temp.merge(lateaircraft_by_month,on='Month')\n",
    "#delays_by_month\n",
    "\n",
    "# Melt the Delay fields into DelayType and AvgDelay (in minutes)\n",
    "delays_by_month = delays_by_month.melt(id_vars=['Month'], \n",
    "                          value_vars=['CarrierDelay', 'WeatherDelay','NASDelay','SecurityDelay','LateAircraftDelay'], \n",
    "                          var_name='DelayType', \n",
    "                          value_name='AvgDelay')\n",
    "#delays_by_month.sample(5)\n",
    "\n",
    "#Define plot\n",
    "plt.figure(figsize = [15,10])\n",
    "ax = sb.pointplot(data = delays_by_month, x = 'Month', y = 'AvgDelay', hue = 'DelayType')\n",
    "ax.set_yticklabels([], minor = True)\n",
    "plt.xlabel('Month')\n",
    "plt.ylabel('Average Delay (in minutes)')\n",
    "plt.title('Monthly Average Delay By Delay Type',fontsize = 15)\n",
    "plt.legend(bbox_to_anchor=(1.05, 1), loc='upper left', prop=fontP)\n",
    "\n",
    "# Dsiplay the plot\n",
    "plt.show();"
   ]
  },
  {
   "cell_type": "markdown",
   "metadata": {
    "slideshow": {
     "slide_type": "skip"
    }
   },
   "source": [
    ">From the plot, it can be infered that both weather and late aircraft related delays contribute most to overall delays as compared to others.\n",
    ">\n",
    ">We can also see some spikes in the data which shows there is significant variation in delays from month to month\n",
    ">\n",
    ">Security is the least probable cause of delay"
   ]
  },
  {
   "cell_type": "markdown",
   "metadata": {
    "slideshow": {
     "slide_type": "skip"
    }
   },
   "source": [
    "#### Is there any relationship between number of flights to a destination and arrival delay?"
   ]
  },
  {
   "cell_type": "code",
   "execution_count": 78,
   "metadata": {
    "slideshow": {
     "slide_type": "skip"
    }
   },
   "outputs": [
    {
     "data": {
      "text/plain": [
       "21604865"
      ]
     },
     "execution_count": 78,
     "metadata": {},
     "output_type": "execute_result"
    }
   ],
   "source": [
    "df_fltdata.ArrDelay.isna().count()"
   ]
  },
  {
   "cell_type": "code",
   "execution_count": 79,
   "metadata": {
    "slideshow": {
     "slide_type": "skip"
    }
   },
   "outputs": [],
   "source": [
    "#Groups by destination and gets number of flights for each destination\n",
    "group_destination = df_fltdata.groupby('Dest').size().sort_values(ascending=False)\n",
    "group_destination = group_destination.reset_index(name = 'NumberOfFlights')\n",
    "#group_destination\n",
    "\n",
    "#Group by destination and calculate the mean of arrival delay for each destination\n",
    "group_arrdelay = df_fltdata.groupby('Dest')['ArrDelay'].mean()\n",
    "group_arrdelay = group_arrdelay.reset_index(name = 'AvgArrivalDelay')\n",
    "#group_arrdelay"
   ]
  },
  {
   "cell_type": "code",
   "execution_count": 80,
   "metadata": {
    "slideshow": {
     "slide_type": "skip"
    }
   },
   "outputs": [
    {
     "data": {
      "text/html": [
       "<div>\n",
       "<style scoped>\n",
       "    .dataframe tbody tr th:only-of-type {\n",
       "        vertical-align: middle;\n",
       "    }\n",
       "\n",
       "    .dataframe tbody tr th {\n",
       "        vertical-align: top;\n",
       "    }\n",
       "\n",
       "    .dataframe thead th {\n",
       "        text-align: right;\n",
       "    }\n",
       "</style>\n",
       "<table border=\"1\" class=\"dataframe\">\n",
       "  <thead>\n",
       "    <tr style=\"text-align: right;\">\n",
       "      <th></th>\n",
       "      <th>Dest</th>\n",
       "      <th>NumberOfFlights</th>\n",
       "      <th>AvgArrivalDelay</th>\n",
       "    </tr>\n",
       "  </thead>\n",
       "  <tbody>\n",
       "    <tr>\n",
       "      <th>0</th>\n",
       "      <td>ATL</td>\n",
       "      <td>1233155</td>\n",
       "      <td>10.119503</td>\n",
       "    </tr>\n",
       "    <tr>\n",
       "      <th>1</th>\n",
       "      <td>ORD</td>\n",
       "      <td>1099967</td>\n",
       "      <td>15.940635</td>\n",
       "    </tr>\n",
       "    <tr>\n",
       "      <th>2</th>\n",
       "      <td>DFW</td>\n",
       "      <td>880194</td>\n",
       "      <td>8.522070</td>\n",
       "    </tr>\n",
       "    <tr>\n",
       "      <th>3</th>\n",
       "      <td>DEN</td>\n",
       "      <td>714593</td>\n",
       "      <td>7.051592</td>\n",
       "    </tr>\n",
       "    <tr>\n",
       "      <th>4</th>\n",
       "      <td>LAX</td>\n",
       "      <td>687261</td>\n",
       "      <td>7.122933</td>\n",
       "    </tr>\n",
       "  </tbody>\n",
       "</table>\n",
       "</div>"
      ],
      "text/plain": [
       "  Dest  NumberOfFlights  AvgArrivalDelay\n",
       "0  ATL          1233155        10.119503\n",
       "1  ORD          1099967        15.940635\n",
       "2  DFW           880194         8.522070\n",
       "3  DEN           714593         7.051592\n",
       "4  LAX           687261         7.122933"
      ]
     },
     "execution_count": 80,
     "metadata": {},
     "output_type": "execute_result"
    }
   ],
   "source": [
    "#Join the two dataframes into one on 'Dest'\n",
    "delay_by_destination = group_destination.merge(group_arrdelay,on='Dest')\n",
    "delay_by_destination.head(5)"
   ]
  },
  {
   "cell_type": "code",
   "execution_count": 81,
   "metadata": {
    "slideshow": {
     "slide_type": "skip"
    }
   },
   "outputs": [],
   "source": [
    "# Create a new column called 'TopDest' insert null values \n",
    "delay_by_destination['TopDest'] = np.nan\n",
    "\n",
    "#Set Dest Ranking for every 20 records\n",
    "delay_by_destination.iloc[:20,3]='Rank 1-20'\n",
    "delay_by_destination.iloc[20:40,3]='Rank 21-40'\n",
    "delay_by_destination.iloc[40:60,3]='Rank 41-60'\n",
    "delay_by_destination.iloc[60:80,3]='Rank 61-80'\n",
    "delay_by_destination.iloc[80:100,3]='Rank 81-100'\n",
    "\n",
    "# Moving just the top 100 records\n",
    "delay_by_destination = delay_by_destination.iloc[:100]"
   ]
  },
  {
   "cell_type": "code",
   "execution_count": 82,
   "metadata": {
    "slideshow": {
     "slide_type": "skip"
    }
   },
   "outputs": [
    {
     "data": {
      "image/png": "[encoded data removed]",
      "text/plain": [
       "<Figure size 1080x576 with 1 Axes>"
      ]
     },
     "metadata": {
      "needs_background": "light"
     },
     "output_type": "display_data"
    }
   ],
   "source": [
    "#Define plot\n",
    "plt.figure(figsize = [15,8])\n",
    "ax = sb.scatterplot(data = delay_by_destination, x = 'NumberOfFlights', y = 'AvgArrivalDelay',hue='TopDest')\n",
    "ax.set_xticklabels(['','0','200000','400000','600000','800000','1000000','1200000'])\n",
    "plt.xlabel('Number of Flights');\n",
    "plt.ylabel('Average Arrival Delay (in minutes)');\n",
    "plt.title('Arrival Delays for Top 100 Busiest Airports by Number of Flights')\n",
    "\n",
    "# Dsiplay the plot\n",
    "plt.show();"
   ]
  },
  {
   "cell_type": "markdown",
   "metadata": {
    "slideshow": {
     "slide_type": "skip"
    }
   },
   "source": [
    "> From the above graph, it doesn't look like the number of flights to a destination has any effect on average arrival delay."
   ]
  },
  {
   "cell_type": "markdown",
   "metadata": {
    "slideshow": {
     "slide_type": "skip"
    }
   },
   "source": [
    "#### Notes:\n",
    "\n",
    "> Multivariate analysis further supports the finding that weather conditions was the top reasons for delays. .\n",
    "\n",
    "> It was interesting to see that number flights to a destination does not have much effect on the average arrival delay.\n",
    ">\n",
    "> There seems to be no significant increase or decrease in average arrival delay as the distance between airports increases either."
   ]
  },
  {
   "cell_type": "markdown",
   "metadata": {
    "slideshow": {
     "slide_type": "slide"
    }
   },
   "source": [
    "## Conclusion:\n",
    "\n",
    "> Cancellations are mostly due to Carrier and Weather related reasons.\n",
    ">\n",
    "> Top 5 worst performing aircraft carriers in terms of cancellations and delays are:\n",
    "    >MQ - Envoy Air Inc.,\n",
    "    >AA - American Airlines Inc.,\n",
    "    >OO - SkyWest Airlines,\n",
    "    >UA - United Airlines, Inc. and ,\n",
    "    >WN - Southwest Airlines Co.\n",
    ">\n",
    "> UA (United Airlines Inc) has the highest cancellation due to 'Carriers'. MQ (Envoy Air Inc) has the highest cancellation due to 'Extreme Weather' and 'National Aviation System' respectively. XE (Delux Public Charter LLC dba JSX Air) has the highest cancellation due to 'Security' reasons.\n",
    ">\n",
    ">TZ (ATA Airlines d/b/a ATA) and  NW (Northwest Airlines Inc) had the most percentage of flights delayed in years 2006 to 2008. HA (Hawaiian Airlines Inc) has the least percentage of flights delayed in years 2006 to 2008.\n",
    ">\n",
    ">Most of the arrival delays are in the range of 0 to 50 minutes.\n",
    ">\n",
    "> Weather, Late Aircraft and Carrier related delays were more significant than the other delays namely NAS and Security."
   ]
  },
  {
   "cell_type": "code",
   "execution_count": 2,
   "metadata": {},
   "outputs": [
    {
     "name": "stderr",
     "output_type": "stream",
     "text": [
      "[NbConvertApp] Converting notebook explanatory_flight_dataset_v1.ipynb to slides\n",
      "[NbConvertApp] Writing 805390 bytes to explanatory_flight_dataset_v1.slides.html\n",
      "[NbConvertApp] Redirecting reveal.js requests to https://cdnjs.cloudflare.com/ajax/libs/reveal.js/3.5.0\n",
      "Traceback (most recent call last):\n",
      "  File \"C:\\Users\\priya\\anaconda3\\Scripts\\jupyter-nbconvert-script.py\", line 10, in <module>\n",
      "    sys.exit(main())\n",
      "  File \"C:\\Users\\priya\\anaconda3\\lib\\site-packages\\jupyter_core\\application.py\", line 270, in launch_instance\n",
      "    return super(JupyterApp, cls).launch_instance(argv=argv, **kwargs)\n",
      "  File \"C:\\Users\\priya\\anaconda3\\lib\\site-packages\\traitlets\\config\\application.py\", line 845, in launch_instance\n",
      "    app.start()\n",
      "  File \"C:\\Users\\priya\\anaconda3\\lib\\site-packages\\nbconvert\\nbconvertapp.py\", line 350, in start\n",
      "    self.convert_notebooks()\n",
      "  File \"C:\\Users\\priya\\anaconda3\\lib\\site-packages\\nbconvert\\nbconvertapp.py\", line 524, in convert_notebooks\n",
      "    self.convert_single_notebook(notebook_filename)\n",
      "  File \"C:\\Users\\priya\\anaconda3\\lib\\site-packages\\nbconvert\\nbconvertapp.py\", line 491, in convert_single_notebook\n",
      "    self.postprocess_single_notebook(write_results)\n",
      "  File \"C:\\Users\\priya\\anaconda3\\lib\\site-packages\\nbconvert\\nbconvertapp.py\", line 463, in postprocess_single_notebook\n",
      "    self.postprocessor(write_results)\n",
      "  File \"C:\\Users\\priya\\anaconda3\\lib\\site-packages\\nbconvert\\postprocessors\\base.py\", line 28, in __call__\n",
      "    self.postprocess(input)\n",
      "  File \"C:\\Users\\priya\\anaconda3\\lib\\site-packages\\nbconvert\\postprocessors\\serve.py\", line 90, in postprocess\n",
      "    http_server.listen(self.port, address=self.ip)\n",
      "  File \"C:\\Users\\priya\\anaconda3\\lib\\site-packages\\tornado\\tcpserver.py\", line 151, in listen\n",
      "    sockets = bind_sockets(port, address=address)\n",
      "  File \"C:\\Users\\priya\\anaconda3\\lib\\site-packages\\tornado\\netutil.py\", line 174, in bind_sockets\n",
      "    sock.bind(sockaddr)\n",
      "OSError: [WinError 10048] Only one usage of each socket address (protocol/network address/port) is normally permitted\n"
     ]
    }
   ],
   "source": [
    "!jupyter nbconvert explanatory_flight_dataset.ipynb --to slides --post serve  --no-input --no-prompt"
   ]
  },
  {
   "cell_type": "code",
   "execution_count": null,
   "metadata": {},
   "outputs": [],
   "source": []
  }
 ],
 "metadata": {
  "celltoolbar": "Slideshow",
  "kernelspec": {
   "display_name": "Python 3",
   "language": "python",
   "name": "python3"
  },
  "language_info": {
   "codemirror_mode": {
    "name": "ipython",
    "version": 3
   },
   "file_extension": ".py",
   "mimetype": "text/x-python",
   "name": "python",
   "nbconvert_exporter": "python",
   "pygments_lexer": "ipython3",
   "version": "3.8.5"
  }
 },
 "nbformat": 4,
 "nbformat_minor": 2
}
